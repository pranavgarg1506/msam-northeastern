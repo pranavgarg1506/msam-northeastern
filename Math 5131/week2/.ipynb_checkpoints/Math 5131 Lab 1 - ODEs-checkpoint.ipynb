{
 "cells": [
  {
   "cell_type": "code",
   "execution_count": 1,
   "metadata": {
    "colab": {
     "base_uri": "https://localhost:8080/",
     "height": 17
    },
    "colab_type": "code",
    "id": "PT06or5SJFGX",
    "outputId": "a6d99729-c3be-4302-ae24-4512250e8534"
   },
   "outputs": [
    {
     "data": {
      "text/html": [
       "<style>\n",
       "div.TOC {    \n",
       "    background-color: #fcfcfc;\n",
       "    border-color: #dFdFdF;\n",
       "    border-left: 5px solid #dFdFdF;\n",
       "    padding: 0.5em;\n",
       "    }\n",
       "div.TOC a {\n",
       "  color: grey;\n",
       "  text-decoration: none;\n",
       "  font-weight: 500;\n",
       "}\n",
       ".ToTOC a {\n",
       "    color:#AAAAAA;\n",
       "    font-size:18px;\n",
       "    text-decoration: none;\n",
       "}\n",
       " </style>"
      ],
      "text/plain": [
       "<IPython.core.display.HTML object>"
      ]
     },
     "metadata": {
      "tags": []
     },
     "output_type": "display_data"
    }
   ],
   "source": [
    "%%html\n",
    "<style>\n",
    "div.TOC {    \n",
    "    background-color: #fcfcfc;\n",
    "    border-color: #dFdFdF;\n",
    "    border-left: 5px solid #dFdFdF;\n",
    "    padding: 0.5em;\n",
    "    }\n",
    "div.TOC a {\n",
    "  color: grey;\n",
    "  text-decoration: none;\n",
    "  font-weight: 500;\n",
    "}\n",
    ".ToTOC a {\n",
    "    color:#AAAAAA;\n",
    "    font-size:18px;\n",
    "    text-decoration: none;\n",
    "}\n",
    " </style>"
   ]
  },
  {
   "cell_type": "markdown",
   "metadata": {
    "colab_type": "text",
    "id": "ZTDdNbSCJFGl"
   },
   "source": [
    "# Solving ODE's numerically with scipy toolkit <a name=\"TableOfContents\"></a> \n",
    "\n",
    "### Table of contents\n",
    "<div class=\"TOC\">\n",
    "<ol>\n",
    "    <li>[An example using the exponential decay equation](#introduction)</li>\n",
    "    <ul style=\"list-style-type:none;margin-top:0\">\n",
    "        <li>[Exploring the effect of parameters](#parameters)</li>\n",
    "        <li>[Applications](#applciations1)</li>\n",
    "        <ul style=\"list-style-type:none;margin-top:0\">\n",
    "            <li>[1.1 First Order Linear ODEs](#FOLODE)</li>\n",
    "            <li>[1.2 Beyond Smooth Equations](#Nonsmooth)</li>\n",
    "            <li>[1.3 Exploring First Order Quadratic Equations](#FOQODE)</li>\n",
    "        </ul>\n",
    "    </ul>\n",
    "    <li>[Case Study: Lake Burley Griffin](#CASE1)</li>\n",
    "    <li>[Case Study: Its a dogs life - the control of stray dogs](#CASE2)</li>\n",
    "</ol>\n",
    "    Case studies were taken from *Mathematical Modelling with Case Studies - Third Edition*, B. Barnes and G. R. Fulford, CRC Press, 2015\n",
    "</div>"
   ]
  },
  {
   "cell_type": "markdown",
   "metadata": {
    "colab_type": "text",
    "id": "IlYOzGr0JFGs"
   },
   "source": [
    "## 1. An example using the exponential decay equation <a name=\"introduction\"></a><span class = \"ToTOC\"><a href=\"#TableOfContents\" style=\"text-decoration:none\">&#x2BA5;</a></span>\n",
    "\n",
    "We are going to use the scipy library to solve ODE's and systems of ODE's. The scipy library uses a powerful suite of ODE solves and estimators to tackle linear, nonlinear, smooth and non-smooth ODE's regardless of whether or not a closed form solution exists. To work with ODE's in Python we need to import three libraries: \n",
    "\n",
    "* `numpy` gives us tools to deal with matrices and mathematical functions.\n",
    "* `matplotlib` give us functions to produce mathematical plots. This libraries syntax is modeled roughly on MATLAB's plotting syntax.\n",
    "* `odeint` from the library `scipy.integrate` is our ODE solver. In general, `scipy` has a ton of great scientific computing functionality that is worth exploring on your own time.\n",
    "\n",
    "We closely follow the exposition here: https://apmonitor.com/pdc/index.php/Main/SolveDifferentialEquations"
   ]
  },
  {
   "cell_type": "code",
   "execution_count": 2,
   "metadata": {
    "colab": {},
    "colab_type": "code",
    "id": "BPeE0o9DJFGu"
   },
   "outputs": [],
   "source": [
    "from scipy.integrate import odeint\n",
    "import matplotlib.pyplot as plt\n",
    "import numpy as np"
   ]
  },
  {
   "cell_type": "markdown",
   "metadata": {
    "colab_type": "text",
    "id": "Uq_NHcNqJFG7"
   },
   "source": [
    "We will start by using scipy to solve the differential equation\n",
    "\n",
    "\\begin{align}\\label{diffeq1}\n",
    "\\frac{dy}{dt} = -ky(t),\n",
    "\\end{align}\n",
    "\n",
    "for $k=0.3$ using numerical methods.\n",
    "\n",
    "To use `odeint` to solve this equation, we write right hand side as a function of $t$ and $y$ that we will call `model`:\n",
    "\n",
    "\\begin{align}\n",
    "\\frac{dy}{dt} = \\mathtt{model(y,t,k)},\n",
    "\\end{align}\n",
    "\n",
    "The first step is to define the function `model` that takes `y`, `t` and `k` as inputs and returns $\\frac{dy}{dt}$:"
   ]
  },
  {
   "cell_type": "code",
   "execution_count": 3,
   "metadata": {
    "colab": {},
    "colab_type": "code",
    "id": "KOwl71zMJFG_"
   },
   "outputs": [],
   "source": [
    "## Defining out model\n",
    "\n",
    "def model(y,t,k):\n",
    "    dydt = -k*y\n",
    "    return dydt"
   ]
  },
  {
   "cell_type": "code",
   "execution_count": null,
   "metadata": {
    "colab": {},
    "colab_type": "code",
    "id": "iDUFoPV6JFHI"
   },
   "outputs": [],
   "source": [
    "model(1,2,3)  # Try running this line of code for different input values of y, t and k"
   ]
  },
  {
   "cell_type": "markdown",
   "metadata": {
    "colab_type": "text",
    "id": "N9w0SdTVJFHR"
   },
   "source": [
    "Next, we set our constants and our initial value for $y(0) = y_0$:"
   ]
  },
  {
   "cell_type": "code",
   "execution_count": null,
   "metadata": {
    "colab": {},
    "colab_type": "code",
    "id": "Mhz-u2U7JFHV"
   },
   "outputs": [],
   "source": [
    "## Setting the constants\n",
    "\n",
    "k = 0.3   # The growth/decay constant\n",
    "y0 = 5.0   # The initial value of y"
   ]
  },
  {
   "cell_type": "markdown",
   "metadata": {
    "colab_type": "text",
    "id": "yS6RAOI7JFHb"
   },
   "source": [
    "Finally, we define the domain of `t` by creating an array of time values spaced evenly apart: \n",
    "\n",
    "* `linspace(t0,t1)` - returns a list of 50 numbers spaced evenly between `t0` and `t1`. The number of points returned can be optionally chosen by specifying the varabile `num` when calling the function. For example, `linspace(t0,t1,num=30)` returns an array of 30 evenly spaced points starting with `t0` and ending with `t1`.\n",
    "\n",
    "<div class=\"alert alert-block alert-info\">\n",
    "If you look at the [help page](https://docs.scipy.org/doc/numpy-1.14.0/reference/generated/numpy.linspace.html) for `np.linspace`, you'll find the notation `linspace(t0,t1,num=50,...)`. In python documentation, `num=50` means that if the `num` variable is not specified the function automatically sets `num` to 50. Since `t0` and `t1` are not assigned default values they *must* be assigned by the user. \n",
    "</div>"
   ]
  },
  {
   "cell_type": "code",
   "execution_count": null,
   "metadata": {
    "colab": {},
    "colab_type": "code",
    "id": "jiJQ8IwvJFHh"
   },
   "outputs": [],
   "source": [
    "## Defining the domain of t\n",
    "\n",
    "t = np.linspace(0,20)\n",
    "print(t)"
   ]
  },
  {
   "cell_type": "markdown",
   "metadata": {
    "colab_type": "text",
    "id": "wuuRJEvUJFHq"
   },
   "source": [
    "We will now actually solve the differential equation. \n",
    "\n",
    "The scipy [ODE solver integrate](https://docs.scipy.org/doc/scipy-0.18.1/reference/generated/scipy.integrate.odeint.html) `odeint(func,y0,t)` takes a function, an initial value, and a vector of time points as inputs. It then outputs a numerical solution to the differential equation\n",
    "\n",
    "`dy/dt = func(y, t0, ...)`\n",
    "\n",
    "We also need to specify the other parameters in our function, in this case the constant $k$. This is done by setting `args=(k1,k2,k3,...,)` where $k_i$ are the parameters of the differential equation. The trailing `,` here specifies `(k1,k2,k3,...,)` as a *tuple*, or unchangeable, ordered list. The model function should have all of its inputs specified except `y` and `t0`. \n",
    "\n",
    "As we can see in the output, the function `odeint` returns a column vector with one $y$ value for each $t$ value in `t`. "
   ]
  },
  {
   "cell_type": "code",
   "execution_count": null,
   "metadata": {
    "colab": {},
    "colab_type": "code",
    "id": "Noje8sDEJFHt",
    "scrolled": true
   },
   "outputs": [],
   "source": [
    "## Solving the diffeq dy/dt = model(y,t) for initial y value y0\n",
    "\n",
    "y_sol = odeint(model,y0,t, args=(k,))\n",
    "print(y_sol)"
   ]
  },
  {
   "cell_type": "markdown",
   "metadata": {
    "colab_type": "text",
    "id": "k8cTvqfNJFH1"
   },
   "source": [
    "<div class=\"alert alert-block alert-info\">\n",
    "You can find out the dimension of a vector by getting its `.shape` property. Try adding `print(sol.shape)` to the cell below.\n",
    "</div>\n",
    "\n",
    "<div class=\"alert alert-block alert-info\">\n",
    "You can click to the left of the output cell to minimize it. \n",
    "</div>"
   ]
  },
  {
   "cell_type": "markdown",
   "metadata": {
    "colab_type": "text",
    "id": "vZMxdKfFJFH3"
   },
   "source": [
    "Lets visualize the solution to this differential equation using `matplotlib`. The command `plt.plot(t,y_sol)` will display a plot with $t$ on the horizontal axis and our predicted $y$ on the vertical axis."
   ]
  },
  {
   "cell_type": "code",
   "execution_count": null,
   "metadata": {
    "colab": {},
    "colab_type": "code",
    "id": "F_29lUrQJFH5"
   },
   "outputs": [],
   "source": [
    "## Plotting the resulting solution\n",
    "\n",
    "plt.plot(t,y_sol)"
   ]
  },
  {
   "cell_type": "markdown",
   "metadata": {
    "colab_type": "text",
    "id": "gnnBs1woJFID"
   },
   "source": [
    "## Exploring the effect of parameters <a name=\"parameters\"></a><span class = \"ToTOC\"><a href=\"#TableOfContents\" style=\"text-decoration:none\">&#x2BA5;</a></span>\n",
    "\n",
    "Lets compare the solutions for $k = .3$, $k=.7$ and $k=1.1$. Numerically solving the decay equation for different $k$ values using `odeint` is as simple as rerunning the code we wrote above using different parameters but the same model."
   ]
  },
  {
   "cell_type": "code",
   "execution_count": null,
   "metadata": {
    "colab": {},
    "colab_type": "code",
    "id": "_MHzGPvwJFIG"
   },
   "outputs": [],
   "source": [
    "k1 = .3\n",
    "k2 = .7\n",
    "k3 = 1.1\n",
    "\n",
    "y1 = odeint(model,y0,t,args=(k1,))\n",
    "y2 = odeint(model,y0,t,args=(k2,))\n",
    "y3 = odeint(model,y0,t,args=(k3,))"
   ]
  },
  {
   "cell_type": "markdown",
   "metadata": {
    "colab_type": "text",
    "id": "AKnEfhM0JFIM"
   },
   "source": [
    "To plot them all on the same axis just requires the execution of several plot commands in the same cell."
   ]
  },
  {
   "cell_type": "code",
   "execution_count": null,
   "metadata": {
    "colab": {},
    "colab_type": "code",
    "id": "PuM46DYmJFIN"
   },
   "outputs": [],
   "source": [
    "plt.plot(t,y1)\n",
    "plt.plot(t,y2)\n",
    "plt.plot(t,y3)"
   ]
  },
  {
   "cell_type": "markdown",
   "metadata": {
    "colab_type": "text",
    "id": "VXluO2RoJFIU"
   },
   "source": [
    "The `plt.plot` function has a lot of options. For example, for each line we can specify the axis labels, the line width, style and color, and the inclusion of a legend. "
   ]
  },
  {
   "cell_type": "code",
   "execution_count": null,
   "metadata": {
    "colab": {},
    "colab_type": "code",
    "id": "Hps-Rol7JFIW"
   },
   "outputs": [],
   "source": [
    "plt.plot(t,y1,'r-',linewidth=2,label='k=0.1')\n",
    "plt.plot(t,y2,'b--',linewidth=4,label='k=0.2')\n",
    "plt.plot(t,y3,'g:',linewidth=1,label='k=0.5')\n",
    "\n",
    "plt.xlabel('time')\n",
    "plt.ylabel('y(t)')\n",
    "plt.legend()\n",
    "plt.show()"
   ]
  },
  {
   "cell_type": "markdown",
   "metadata": {
    "colab_type": "text",
    "id": "sPJxlSEEJFIe"
   },
   "source": [
    "## Applications: <a name=\"applciations1\"></a>\n",
    "\n",
    "### 1.1 First Order Linear ODEs <a name=\"FOLODE\"></a><span class = \"ToTOC\"><a href=\"#TableOfContents\" style=\"text-decoration:none\">&#x2BA5;</a></span>\n",
    "\n",
    "Use `odeint` to solve\n",
    "\n",
    "$$\n",
    "\\frac{dy}{dt} = -y(t) + k\\,,\\hspace{5em} y(0) = 0\\,,\n",
    "$$\n",
    "\n",
    "for $t\\in [0,5]$. Plot the results for $k = 1,2,3$. You will need to define a new model function `dydt = model2(y,t,k)`, and specify the domain of `t`. It is worth giving the new model function a name like `model2` to make it distinct from the exponential decay model. "
   ]
  },
  {
   "cell_type": "code",
   "execution_count": null,
   "metadata": {
    "colab": {},
    "colab_type": "code",
    "id": "M3r_m1oCJFIh"
   },
   "outputs": [],
   "source": []
  },
  {
   "cell_type": "code",
   "execution_count": null,
   "metadata": {
    "colab": {},
    "colab_type": "code",
    "id": "OiD85VyLJFIo"
   },
   "outputs": [],
   "source": []
  },
  {
   "cell_type": "markdown",
   "metadata": {
    "colab_type": "text",
    "id": "6j4uOh3qJFIu"
   },
   "source": [
    "There's an easier way to run code over and over with slight changes, and that involves using a `for` loop:\n",
    "\n",
    "<div class=\"alert alert-block alert-success\">\n",
    "<b>Hint:</b> A for loop does an action for each element of a set. For example, \n",
    "<br><br>\n",
    "\n",
    "```\n",
    "for i = [i1,i2,i3,..] :\n",
    "    DO_SOMETHING_WITH i\n",
    "    THEN_DO_SOMETHING_ELSE\n",
    "    ...\n",
    "```\n",
    "\n",
    "<br><br>\n",
    "In this case, `[i1,i2,i3,...]` is any list of values (or list off anything actually). For example, if we want to loop over the integers from 1 to 100, we `range(1,100)`.\n",
    "</div>\n",
    "\n",
    "For example, we can produce the three plot lines above with the following code:"
   ]
  },
  {
   "cell_type": "code",
   "execution_count": null,
   "metadata": {
    "colab": {},
    "colab_type": "code",
    "id": "XX2Xq_tjJFIx"
   },
   "outputs": [],
   "source": [
    "def model2(y,t,k):\n",
    "    dydt = -y + k\n",
    "    return dydt\n",
    "\n",
    "y0 = 0\n",
    "t = np.linspace(0,5,50)\n",
    "\n",
    "plt.plot(t,odeint(model2,y0,t,(1,)))\n",
    "plt.plot(t,odeint(model2,y0,t,(2,)))\n",
    "plt.plot(t,odeint(model2,y0,t,(3,)))"
   ]
  },
  {
   "cell_type": "code",
   "execution_count": null,
   "metadata": {
    "colab": {},
    "colab_type": "code",
    "id": "_1OhlvXdJFI5"
   },
   "outputs": [],
   "source": []
  },
  {
   "cell_type": "markdown",
   "metadata": {
    "colab_type": "text",
    "id": "vjB8B5YJJFI_"
   },
   "source": [
    "Try it with $y_0$. Produce 10 plot lines that graph $y_0 = 0,1,2,\\ldots, 10$. Remember that you can use `range(0,10)` to produce the list of integers."
   ]
  },
  {
   "cell_type": "code",
   "execution_count": null,
   "metadata": {
    "colab": {},
    "colab_type": "code",
    "id": "sn-3FpX4JFJB"
   },
   "outputs": [],
   "source": []
  },
  {
   "cell_type": "code",
   "execution_count": null,
   "metadata": {
    "colab": {},
    "colab_type": "code",
    "id": "hb5vzLGoJFJG"
   },
   "outputs": [],
   "source": []
  },
  {
   "cell_type": "markdown",
   "metadata": {
    "colab_type": "text",
    "id": "egvJ982xJFJV"
   },
   "source": [
    "We can also numerically solve more complicated equation. Use `odeint` to solve\n",
    "\n",
    "$$\n",
    "\\frac{dy}{dt} = -y(t) + k\\sin(t)\\,,\\hspace{5em} y(0) = 0\\,,\n",
    "$$\n",
    "\n",
    "for $t\\in [0,20]$. Plot the results for $k=1$ and $y_0 = -5,-4,\\ldots, 5$. You will need to define a new model function `dydt = model3(y,t,k)`, and specify the domain of `t`. How do these solutions change as we change $k$?"
   ]
  },
  {
   "cell_type": "markdown",
   "metadata": {
    "colab_type": "text",
    "id": "X6KHPkpHJFJW"
   },
   "source": [
    "### 1.2 Beyond Smooth Equations <a name=\"Nonsmooth\"></a><span class = \"ToTOC\"><a href=\"#TableOfContents\" style=\"text-decoration:none\">&#x2BA5;</a></span>\n",
    "\n",
    "Many interesting physical systems *do not* smoothly relate their values with their derivatives. While this may be is difficult to deal with analytically, it is much easier numerically. Let $u(t)$ be the step function\n",
    "\n",
    "$$\n",
    "u(t) = \\begin{cases}\n",
    "0& \\text{for }t<10\n",
    "\\\\\n",
    "2& \\text{for }t\\geq 10\n",
    "\\end{cases}\\,.\n",
    "$$\n",
    "\n",
    "Solve the differential equation \n",
    "\n",
    "$$\n",
    "5\\frac{dy}{dt} = -y(t) + u(t)\\,,\\hspace{5em} y(0) = 1\\,,\n",
    "$$\n",
    "\n",
    "for $t\\in [0,20]$ and plot the result. What happens when you change the coefficient of $\\frac{dy}{dt}$?\n",
    "\n",
    "<div class=\"alert alert-block alert-success\">\n",
    "<b>Hint:</b> You will need to use an if/else statement in your definition of the function. The syntax is\n",
    "<br><br>\n",
    "\n",
    "```\n",
    "if SOME_TEST :\n",
    "    DO_THIS\n",
    "    THEN_THIS\n",
    "    ...\n",
    "else:\n",
    "    DO_THIS_OTHER_THING\n",
    "    AND_THIS\n",
    "    ...\n",
    "```\n",
    "\n",
    "<br><br>\n",
    "In this case, `SOME_TEST` is any logical statement that can evaluate to true or false, like `t == 4`, `y>7` or `y<t`.\n",
    "</div>\n",
    "\n"
   ]
  },
  {
   "cell_type": "code",
   "execution_count": null,
   "metadata": {
    "colab": {},
    "colab_type": "code",
    "id": "NqJOxcV4JFJY"
   },
   "outputs": [],
   "source": []
  },
  {
   "cell_type": "code",
   "execution_count": null,
   "metadata": {
    "colab": {},
    "colab_type": "code",
    "id": "2fkmie33JFJc"
   },
   "outputs": [],
   "source": []
  },
  {
   "cell_type": "markdown",
   "metadata": {
    "colab_type": "text",
    "id": "x4GGi87OJFJg"
   },
   "source": [
    "### 1.3 Exploring First Order Quadratic Equations <a name=\"FOQODE\"></a> <span class = \"ToTOC\"><a href=\"#TableOfContents\" style=\"text-decoration:none\">&#x2BA5;</a></span>\n",
    "\n",
    "Consider the family of differential equations given by \n",
    "\n",
    "$$\n",
    "\\frac{dy}{dt} = at^3 - byt\\,,\n",
    "$$\n",
    "\n",
    "for constants $a$ and $b$. Solve this equation numerically for $y(0) = 1$ and $a = b$ and $y_0 \\in \\{-10,\\ldots,10\\}$. How do these solutions change as we change $a$, $b$?"
   ]
  },
  {
   "cell_type": "code",
   "execution_count": null,
   "metadata": {
    "colab": {},
    "colab_type": "code",
    "id": "y_9sRr0ZJFJi"
   },
   "outputs": [],
   "source": []
  },
  {
   "cell_type": "code",
   "execution_count": null,
   "metadata": {
    "colab": {},
    "colab_type": "code",
    "id": "U3k12npcJFJl"
   },
   "outputs": [],
   "source": []
  },
  {
   "cell_type": "markdown",
   "metadata": {
    "colab_type": "text",
    "id": "s4O9rsEXJFJt"
   },
   "source": [
    "## Case Study: Lake Burley Griffin<a name=\"CASE1\"></a> <span class = \"ToTOC\"><a href=\"#TableOfContents\" style=\"text-decoration:none\">&#x2BA5;</a></span>\n",
    "\n",
    "*Lake Burley Griffin in Canberra, the capitol city of Australia, was created artificially in 1962 for both recreational and aesthetic purposes. In 1974 the public health authorities indicated that the pollution standards set down for safe use were being violated, and that this was attributed to the sewage works in Queanbeyan upstream.*\n",
    "\n",
    "*After extensive measurements of pollution levels taken in the 1970s it was established that, while sewage plants (of which there are three above the lake) certainly exacerbated the problem, there was significant contributions from rural and urban runoff as well, particularly during summer rainstorms. These contribute to dramatic increases in pollution levels and at times were totally responsible for lifting the pollution levels above the safety limits.*\n",
    "\n",
    "*In 1974 the mean concentration of the bacteria fecal coliform count was approximately $10^7 \\,\\text{bac }/m^{3}$ at the point where the river feeds the lake. The safety threshold for the fecal coliform count in the water is such that for contact recreational sports no more than 10% of the total samples over a 30 day period should exceed $4\\times 10^6 \\,\\text{bac }/m^{3}$.*\n",
    "\n",
    "The system can be modeled very simply with a few assumptions: Flow $F$ into the lake is assume to equal flow out of the lake, and the volume $V$ of the lake is considered to be constant and approximately $28\\times 10^6 \\, m^{3}$. Furthermore, the lake is assumed to be well mixed. Under these assumptions, a suitable differential equation model for the pollutant concentration is \n",
    "\n",
    "$$\n",
    "\\frac{dC}{dt} = \\frac{F}{V}c_{in} - \\frac{F}{V}C\n",
    "$$\n",
    "\n",
    "where $c_{in}$ is the concentration of the pollutant entering the lake. \n",
    "\n",
    "### Exercise:\n",
    "\n",
    "If the fecal concentration entering the lake is $c_{in}=3\\times 10^6 \\, \\text{bac }/m^3$, solve the flow equation for sevral different intial considerations: A clean lake, a lake with and initial concentration of $3\\times 10^6 \\, \\text{bac }/m^3$, and a lake with $5\\times 10^6 \\,\\text{bac }/m^3$.\n",
    "\n",
    "<div class=\"alert alert-block alert-success\">\n",
    "<b>Hint:</b> Natively, Python doesn't have either a $\\sin()$ function or $\\pi$, but numpy does. Use `np.sin(t)` for $\\sin(t)$ and `np.pi` for $\\pi$.\n",
    "</div>\n",
    "\n",
    "<div class=\"alert alert-block alert-success\">\n",
    "<b>Hint:</b> Python also does exponents in a nonstandard way: instead of useing `10^6`, Python uses `10**6` for exponentiation.\n",
    "</div>"
   ]
  },
  {
   "cell_type": "code",
   "execution_count": null,
   "metadata": {
    "colab": {},
    "colab_type": "code",
    "id": "9A9qt5G8JFJu"
   },
   "outputs": [],
   "source": []
  },
  {
   "cell_type": "code",
   "execution_count": null,
   "metadata": {
    "colab": {},
    "colab_type": "code",
    "id": "81zBDyDVJFJ0"
   },
   "outputs": [],
   "source": []
  },
  {
   "cell_type": "markdown",
   "metadata": {
    "colab_type": "text",
    "id": "HoYvOGjCJFJ6"
   },
   "source": [
    "### Exercise:\n",
    "\n",
    "However, this model is still simplistic. Flow rates change over the year with on average seasonal patterns, while the amount of pollutant reaching the lake is also seasonal. Assuming a sinusoidal pattern over the year, a rouge estimate of the concentration from the data available in the 1970’s is taken as\n",
    "\n",
    "$$\n",
    "c_{in}(t) = 10^6(10+10\\cos(2\\pi t))\\,,\\hspace{5em} F(t) = 10^6(6+6\\sin(2\\pi t))\\,.\n",
    "$$\n",
    "\n",
    "Resolve the equations above with $F$ no longer constant. "
   ]
  },
  {
   "cell_type": "code",
   "execution_count": null,
   "metadata": {
    "colab": {},
    "colab_type": "code",
    "id": "IrI3vSMoJFJ8"
   },
   "outputs": [],
   "source": []
  },
  {
   "cell_type": "code",
   "execution_count": null,
   "metadata": {
    "colab": {},
    "colab_type": "code",
    "id": "znUCrq-UJFKA"
   },
   "outputs": [],
   "source": []
  },
  {
   "cell_type": "markdown",
   "metadata": {
    "colab_type": "text",
    "id": "7QbxHWLuJFKE"
   },
   "source": [
    "## Case Study: Its a dogs life - the control of stray dogs<a name=\"CASE2\"></a> <span class = \"ToTOC\"><a href=\"#TableOfContents\" style=\"text-decoration:none\">&#x2BA5;</a></span>\n",
    "\n",
    "Stray dogs are abandoned dogs and their offspring living in urban environments. In [Amuaku et al (2010)](https://www.tandfonline.com/doi/abs/10.1080/08898481003689452), the authors considered how the theory of a single population could contribute to the design of practical programs for the control of stray dogs.\n",
    "\n",
    "Stray dogs can cause a number of problems and in many countries around the world have become a major public health hazard. Stray dogs typically group into packs and breed, with shelters being unable to cope with the numbers roaming the streets.\n",
    "\n",
    "Typically, euthanasia is the preferred strategy targeted at strays and although it has an impact on growth rates total eradication is unlikely due to new animals entering the population through abandonment. Here, we will attempt to make a mathematical model to study the effectiveness of euthanasia as a control mechanism.\n",
    "\n",
    "We start by making some general assumptions about a population of dogs. Let N(t) be the density of the population, that is the number of animals per $km^2$. We assume logistic growth, so \n",
    "\n",
    "$$\n",
    "\\frac{dN}{dt} = rN\\left(1-\\frac{N}{K}\\right)\n",
    "$$\n",
    "\n",
    "Where $N = N(t)$ is a function of time, $r$ is the intrinsic growth rate and $K$ is the carrying capacity.  The parameter $r$ can be expressed crudely as the difference between the birth rate $a$ and the death rate $b$, so $r = a-b$.\n",
    "\n",
    "To incorporate euthanasia, we assume that in each time step a constant proportion $\\epsilon$ of stray dogs is euthanized in each $km^2$, that is a rate of $\\epsilon N(t)$ per $km^2$. The result is a differential equation \n",
    "\n",
    "$$\n",
    "\\frac{dN}{dt} = rN\\left(1-\\frac{N}{K}\\right) - \\epsilon N\n",
    "$$"
   ]
  },
  {
   "cell_type": "markdown",
   "metadata": {
    "colab_type": "text",
    "id": "muc1sWYquEiC"
   },
   "source": [
    "### Analytic Problem 1: (1 Point)\n",
    "Solve the differential equation above subject to the initial condition that $N(0) = N_0$. You must show your work. "
   ]
  },
  {
   "cell_type": "markdown",
   "metadata": {
    "colab_type": "text",
    "id": "ajuzqU_EJFKF"
   },
   "source": [
    "_Double click here to enter equation_"
   ]
  },
  {
   "cell_type": "markdown",
   "metadata": {
    "colab_type": "text",
    "id": "5sLmgNnoJFKI"
   },
   "source": [
    "***"
   ]
  },
  {
   "cell_type": "markdown",
   "metadata": {
    "colab_type": "text",
    "id": "uFN42evhJFKK"
   },
   "source": [
    "### Problem 2: (2 Point)\n",
    "To generate results we require parameter estimates for the literature that are relevant to stray dogs. The carrying capacity was taken to be $250$, close to the average estimate taken in Baltimore in 1970-1971 (Beck, 2002). Further, according to Amaku et al appropriate birth and death rates are $a=0.34$ and $b=0.12$.\n",
    "\n",
    "Solve the logistic equation with the parameters given for a **reasonable** initial populations $N(0)=N_0$ and $\\epsilon$ in three ranges: $\\epsilon > a$, $r <\\epsilon <a$ and $\\epsilon < r$. You may organize this information in any way you want, but be sure it is clearly labeled. "
   ]
  },
  {
   "cell_type": "markdown",
   "metadata": {
    "colab_type": "text",
    "id": "pESErg-03deQ"
   },
   "source": [
    "2.a) What is a reasonable estimate for $N(0)$ given the information in the case study? What does it mean for $\\epsilon >a$, $r<\\epsilon<a$ and $\\epsilon<r$?"
   ]
  },
  {
   "cell_type": "markdown",
   "metadata": {
    "colab_type": "text",
    "id": "b2u5jsE5JFKM"
   },
   "source": []
  },
  {
   "cell_type": "markdown",
   "metadata": {
    "colab_type": "text",
    "id": "nYgUafXpJFKO"
   },
   "source": [
    "2.b) Numerially solve for the solution to the logistic equation for three values of epsilon: one for $1>\\epsilon >a$, $r<\\epsilon<a$ and $0<\\epsilon<r$. Use a reasonable value for $N_0$ in line with part a."
   ]
  },
  {
   "cell_type": "code",
   "execution_count": null,
   "metadata": {
    "colab": {},
    "colab_type": "code",
    "id": "DQm5slYK4DW8"
   },
   "outputs": [],
   "source": []
  },
  {
   "cell_type": "markdown",
   "metadata": {
    "colab_type": "text",
    "id": "ZO_p6qwvJFKR"
   },
   "source": [
    "***"
   ]
  },
  {
   "cell_type": "markdown",
   "metadata": {
    "colab_type": "text",
    "id": "A1JOtLJuJFKS"
   },
   "source": [
    "### Analytic Problem 3: (2 Point)\n",
    "\n",
    "Fine the equilibrium solutions for our model and determine their stability in terms of the parameters $a$, $b$, $K$ and $\\epsilon$. What must the value of $\\epsilon$ be (in terms of $a$, $b$ and $K$) for the stray population to eventually go to 0?"
   ]
  },
  {
   "cell_type": "markdown",
   "metadata": {
    "colab_type": "text",
    "id": "lwq0VwkzJFKU"
   },
   "source": [
    "_Double click here to enter equation_"
   ]
  },
  {
   "cell_type": "markdown",
   "metadata": {
    "colab_type": "text",
    "id": "_65mxrCuJFKV"
   },
   "source": [
    "***"
   ]
  },
  {
   "cell_type": "markdown",
   "metadata": {
    "colab_type": "text",
    "id": "ePL6WbQSJFKW"
   },
   "source": [
    "### Problem 4: (1 Point)\n",
    "\n",
    "Rehousing is not always an option, but in some cases shelters exist which can help mitigate the stray dog population. If the shelter system can rehouse $h$ dogs per year, the model becomes\n",
    "\n",
    "$$\n",
    "\\frac{dN}{dt} = rN\\left(1-\\frac{N}{K}\\right) - h\n",
    "$$\n",
    "\n",
    "Assume that $a$ and $b$ and $K$ are as above and $h=10$. Solve the equation numerically for $N_0 = 10$ and $N_0 = 100$ and plot the result."
   ]
  },
  {
   "cell_type": "code",
   "execution_count": null,
   "metadata": {
    "colab": {},
    "colab_type": "code",
    "id": "oZXbL5DwJFKX"
   },
   "outputs": [],
   "source": []
  },
  {
   "cell_type": "code",
   "execution_count": null,
   "metadata": {
    "colab": {},
    "colab_type": "code",
    "id": "CddH9Dq9JFKb"
   },
   "outputs": [],
   "source": []
  },
  {
   "cell_type": "markdown",
   "metadata": {
    "colab_type": "text",
    "id": "raCSkQwLJFKf"
   },
   "source": [
    "---"
   ]
  },
  {
   "cell_type": "markdown",
   "metadata": {
    "colab_type": "text",
    "id": "JEziLc3WXa1G"
   },
   "source": [
    "### Analytic Problem 5: (1 Point)\n",
    "\n",
    "For $a$, $b$, $K$ and $h$ as in Problem 4, for which initial populations $N_0$ does the number of stray dogs remain stable? For which $N_0$ does the population eventually go to 0? Provide an interval for each case."
   ]
  },
  {
   "cell_type": "markdown",
   "metadata": {
    "colab_type": "text",
    "id": "Cyk9wN9ZYIyL"
   },
   "source": [
    "_Double click here to enter equation_"
   ]
  },
  {
   "cell_type": "markdown",
   "metadata": {
    "colab_type": "text",
    "id": "YzQQXa9yaErZ"
   },
   "source": [
    "---"
   ]
  },
  {
   "cell_type": "markdown",
   "metadata": {
    "colab_type": "text",
    "id": "Ky6-Exo6YI_d"
   },
   "source": [
    "### Analytic Problem 6: (1 Point)\n",
    "\n",
    "Assume that $N_0$ = 30. What is the minimum value of $h$ in the re-homing model such that the population eventually falls to 0?"
   ]
  },
  {
   "cell_type": "markdown",
   "metadata": {
    "colab_type": "text",
    "id": "F8OXpzU4ZvEK"
   },
   "source": [
    "_Double click here to enter equation_"
   ]
  },
  {
   "cell_type": "markdown",
   "metadata": {
    "colab_type": "text",
    "id": "xnTVljw7aHgK"
   },
   "source": [
    "---"
   ]
  },
  {
   "cell_type": "markdown",
   "metadata": {
    "colab_type": "text",
    "id": "gwgUS6iDJFKk"
   },
   "source": [
    "### Analytic Problem 7: (1 Point)\n",
    "\n",
    "Consider the re-homing model and the euthanasia model. Fix $a$, $b$ and $K$ as above. \n",
    "\n",
    "7.a) Does $N_0$, the initial population, effect the long term behavior of either model? Justify your answer.\n",
    "\n",
    "7.b) In the euthanasia model, is there a value of $\\epsilon$ that guarantees the population will eventually fall to 0 regardless of $N_0$? If not, why not, and if so what is the value?\n",
    "\n",
    "7.c) In the re-homing model, is there a value of $h$ that guarantees the population will eventually fall to 0 regardless of $N_0$? If not, why not, and if so what is the value?"
   ]
  },
  {
   "cell_type": "markdown",
   "metadata": {
    "colab_type": "text",
    "id": "L9we3BTRJFKk"
   },
   "source": [
    "_Double click here to enter equation_"
   ]
  },
  {
   "cell_type": "markdown",
   "metadata": {
    "colab_type": "text",
    "id": "0g0CrShBJFKl"
   },
   "source": [
    "***"
   ]
  },
  {
   "cell_type": "markdown",
   "metadata": {
    "colab_type": "text",
    "id": "uiqPvyynaP2U"
   },
   "source": [
    "## Bonus:\n",
    "\n",
    "Consider the combined model\n",
    "\n",
    "$$\n",
    "\\frac{dN}{dt} = rN\\left(1-\\frac{N}{K}\\right) - h - \\epsilon N\n",
    "$$\n",
    "\n",
    "With $a$, $b$ and $K$ as above. Assume it is found that there are $N_0 = 30$ strays per $km^2$. \n",
    "\n",
    "Assume that the total cost of the combined solution is $C(\\epsilon, h) = \\alpha(\\epsilon^2 + h)$. What is the most cost effective combination of euthanaisa and rehoming that eventaully diminishes the population to 0?"
   ]
  },
  {
   "cell_type": "markdown",
   "metadata": {
    "colab_type": "text",
    "id": "Vl1jnQDtJFKn"
   },
   "source": [
    "# Homework Submission Instructions:\n",
    "\n",
    "Please complete all questions above. You may submit your homework in two ways:\n",
    "\n",
    "* A Jupyter notebook containing the solutions to the analytic questions as well as the answers to the computational questions with the code. Jupyter support latex, so computations can be written out here. \n",
    "\n",
    "* A Jupyter notebook containing the answers to the computational questions, and an accompanying document answering the analytic questions to be turn in in class. \n",
    "\n",
    "#### Grading:\n",
    "\n",
    "Homework is 10 Points, 1 points for readability and presentation. In addition, there are 5 points of automatic extra credit for using Latex/Jupyter PDF to answer the analytic questions. "
   ]
  },
  {
   "cell_type": "code",
   "execution_count": null,
   "metadata": {
    "colab": {},
    "colab_type": "code",
    "id": "Ua0ZcZWmJFKn"
   },
   "outputs": [],
   "source": []
  }
 ],
 "metadata": {
  "colab": {
   "collapsed_sections": [
    "HoYvOGjCJFJ6"
   ],
   "name": "Math 5131 Lab 1 - ODEs.ipynb",
   "provenance": []
  },
  "kernelspec": {
   "display_name": "Python 3",
   "language": "python",
   "name": "python3"
  },
  "language_info": {
   "codemirror_mode": {
    "name": "ipython",
    "version": 3
   },
   "file_extension": ".py",
   "mimetype": "text/x-python",
   "name": "python",
   "nbconvert_exporter": "python",
   "pygments_lexer": "ipython3",
   "version": "3.6.9"
  }
 },
 "nbformat": 4,
 "nbformat_minor": 1
}
