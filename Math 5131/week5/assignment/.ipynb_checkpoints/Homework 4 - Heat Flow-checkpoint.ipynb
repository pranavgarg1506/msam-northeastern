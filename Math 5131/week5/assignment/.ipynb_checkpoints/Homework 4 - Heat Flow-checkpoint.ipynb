{
 "cells": [
  {
   "cell_type": "markdown",
   "metadata": {},
   "source": [
    "# Homework 4 - Heat Flow\n",
    "\n",
    "\n",
    "## Problem 1\n",
    "In class and in Chapter 9, we derived the heat equation for a rectangular heat fin using Newtons Law of Cooling. In this problem, we will derive similar equations for the {\\bf cylindrical heat fin}. \\\\\n",
    "\n",
    "<img src=\"https://gdurl.com/GTpW/download\" width=400>\n",
    "\n",
    "Attached to thin pipe is a disk heat fin of thickness $h$, inner radius $r_1$ (the same as the pipe thickness) and outer radius $r_2$ (measured from the center of the pipe), heat flows radially. Heat is lost from the surface of the fin to the surrounding atmosphere (whose temperature is a constant $u_s$) according to Newtons law of Cooling. \n",
    "\n",
    "Derive the differential equation for the **equilibrium temperature** of the heat fin, assuming the temperature variation over the cross section of the heat fin is negligible. "
   ]
  },
  {
   "cell_type": "code",
   "execution_count": null,
   "metadata": {},
   "outputs": [],
   "source": []
  },
  {
   "cell_type": "markdown",
   "metadata": {},
   "source": [
    "## Case Study: Heating in a building\n",
    "\n",
    "In different parts of the world, dwellings and public buildings take on many differente and imaginative forms. Mud, corrigated iron, asbestos sheeting and glass are just examples of some of the huge varity of materials used. One aspect considered in constuction is climate, and certan materials and room configurations are used to enhance the heating and cooling mechinism of modern building. This is especailly a consideration in the face of added pressure for energy efficancy.\n",
    "\n",
    "Lets consider a model using Newtons law of cooling, where\n",
    "\n",
    "$$\n",
    "\\left\\{\n",
    "\\begin{matrix}\n",
    "\\text{rate}\n",
    "\\\\\n",
    "\\text{heat}\n",
    "\\\\\n",
    "\\text{transfer}\n",
    "\\end{matrix}\n",
    "\\right\\}\n",
    "= \\frac{S\\times \\Delta U}{R}\n",
    "$$\n",
    "\n",
    "where $S$ is the surface area between two regions, $\\Delta U$ is the temperature different between the regions and $R$ is the resistance to heat transport. For a house, $R$ represents the total heat resistance due to the resistance of the materials making up the wall (including insulation, wallboard, struts, etc).\n",
    "\n",
    "Consider a simple schematic of a two room house\n",
    "<img src=\"https://gdurl.com/0tBr/download\">\n",
    "A system of differentail equations, dependant on heat conduction, can be derived by considering the heat inputs and outputs in each of the two compartments. The resulting govering equations are \n",
    "\\begin{align}\n",
    "M_A \\frac{dU_A}{dt} &= \\frac{S_{AO}}{R_{AO}}(u_s - U_A) + \\frac{S_{AB}}{R_{AB}}(U_A - U_B)\n",
    "\\\\\n",
    "M_B \\frac{dU_B}{dt} &= \\frac{S_{BO}}{R_{BO}}(u_s - U_B) + \\frac{S_{AB}}{R_{AB}}(U_B - U_A)\n",
    "\\end{align}\n",
    "where\n",
    "\n",
    "* $M_i$ is the overall thermal mass of the air and materials in each room.\n",
    "* $S_{ij}$ is the surface area between the compartments $i$ and $j$, where $A$ represents room $A$, $B$ represents rooms $B$ and $O$ representst the outside.\n",
    "* $R_{ij}$ is the thermal resistance between each ccompartment.\n",
    "\n",
    "The thermal mass for each room can be computed as the sum of the thermal mass of the air, the thermal mass of the external wall and the termal mass of the internal wall:\n",
    "\n",
    "$$\n",
    "M_A = \\rho_{air} c_{air} V_{air} + \\rho_{external} c_{external} V_{external} +  \\rho_{internal} c_{internal} V_{internal} \n",
    "$$\n",
    "\n",
    "We ignore heat loss through the roof for the moment. \n",
    "\n",
    "For this case study, we will fix the following parameters, calculated for $t$ in units of hours:\n",
    "\n",
    "|Heat Parameter|Parameter Value|\n",
    "|----------|------------|\n",
    "|$R_{AO} = R_{BO}$| 0.055 $m^2\\cdot C h/kJ$|\n",
    "|$R_{AB}$ | 0.008 $m^2\\cdot C h/kJ$|\n",
    "|$\\rho_{air}$ | 1.2 $kg/m^3$|\n",
    "|$\\rho_{external}$ | 2100 $kg/m^3$|\n",
    "|$\\rho_{internal}$ | 803 $kg/m^3$|\n",
    "|$c_{air}$ |  1.005 $kJ/kg\\cdot C$|\n",
    "|$c_{external}$ | .9 $kJ/kg\\cdot C$|\n",
    "|$c_{internal}$ | 1.09 $kJ/kg\\cdot C$|\n",
    "\n",
    "In addition, the building is assumed to have the following material thicknesses:\n",
    "\n",
    "\n",
    "|Heat Parameter | Parameter Value|\n",
    "|--|--|\n",
    "|External Wall Thickness| .2 m|\n",
    "|Internal Wall Thickness| .1 m|\n",
    "|Building Height| 3m|\n"
   ]
  },
  {
   "cell_type": "markdown",
   "metadata": {},
   "source": [
    "#### Question 1:\n",
    "\n",
    "Solve the system of differential equations above. Assume the termperature of Room $A$ at $t=0$ is $20^\\circ C$, the temperature of Room $B$ is $40^\\circ C$ and the outside temperature is a constant $35^\\circ C$."
   ]
  },
  {
   "cell_type": "code",
   "execution_count": null,
   "metadata": {},
   "outputs": [],
   "source": []
  },
  {
   "cell_type": "markdown",
   "metadata": {},
   "source": [
    "#### Question 2: Day and Night\n",
    "\n",
    "Modify the model above the include a 24 hour day/night cycle. Assume that $t=0$ is the height of heat for the day at $35^\\circ C$ and that the low point of heat for the day is 12 hours later and is $25^\\circ C$."
   ]
  },
  {
   "cell_type": "code",
   "execution_count": null,
   "metadata": {},
   "outputs": [],
   "source": []
  },
  {
   "cell_type": "markdown",
   "metadata": {},
   "source": [
    "#### Question 3:\n",
    "\n",
    "Lets simulate the addition of an air conditioning unit to one of the rooms. A standard window unit removes approximatly $\\kappa_A = 6000$ kJ of energy per hour. We modify the equations as follows\n",
    "\n",
    "\\begin{align}\n",
    "M_A \\frac{dU_A}{dt} &= \\frac{S_{AO}}{R_{AO}}(u_s - U_A) + \\frac{S_{AB}}{R_{AB}}(U_A - U_B) - \\kappa_A\n",
    "\\\\\n",
    "M_B \\frac{dU_B}{dt} &= \\frac{S_{BO}}{R_{BO}}(u_s - U_B) + \\frac{S_{AB}}{R_{AB}}(U_B - U_A)\n",
    "\\end{align}\n",
    "Model this system of equations with the other paramters as above. \n",
    "\n",
    "*To think about: How do we understand the almost constant gap in temperature between the rooms?*"
   ]
  },
  {
   "cell_type": "code",
   "execution_count": null,
   "metadata": {},
   "outputs": [],
   "source": []
  },
  {
   "cell_type": "markdown",
   "metadata": {},
   "source": [
    "#### Question 4:\n",
    "If you are interested in keeping Room $A$ cool, you could either double the cooling factor of the air conditioning unit, or try to insulate the wall between Rooms $A$ and Room $B$. Rigid panel polystyreen has as $R$ value of 0.9435. Which is the better way to keep Room $A$ cool?"
   ]
  },
  {
   "cell_type": "code",
   "execution_count": null,
   "metadata": {},
   "outputs": [],
   "source": []
  },
  {
   "cell_type": "markdown",
   "metadata": {},
   "source": [
    "#### Question 5: \n",
    "\n",
    "Lets model adding a third $5\\times 5$ room to the building using the three equations\n",
    "\n",
    "\\begin{align}\n",
    "M_A \\frac{dU_A}{dt} &= \\frac{S_{AO}}{R_{AO}}(u_s - U_A) + \\frac{S_{AB}}{R_{AB}}(U_B - U_A) - \\kappa_A\n",
    "\\\\\n",
    "M_B \\frac{dU_B}{dt} &= \\frac{S_{BO}}{R_{BO}}(u_s - U_B) + \\frac{S_{AB}}{R_{AB}}(U_A - U_B)+\\frac{S_{BC}}{R_{BC}}(U_C - U_B)\n",
    "\\\\\n",
    "M_C \\frac{dU_C}{dt} &= \\frac{S_{CO}}{R_{CO}}(u_s - U_C) + \\frac{S_{AC}}{R_{AC}}(U_B - U_C)\n",
    "\\end{align}\n",
    "\n",
    "Model the effect of removing $\\kappa_A = 6000$ kJ of energy per hour of heat energy due to air conditioning in Room $A$ vs providing air conditioning to Room $B$. How much of a difference do you find?\n",
    "\n",
    "How does that difference change if we use the insulation from Question 4?"
   ]
  },
  {
   "cell_type": "code",
   "execution_count": null,
   "metadata": {},
   "outputs": [],
   "source": []
  },
  {
   "cell_type": "markdown",
   "metadata": {},
   "source": [
    "#### Question 6\n",
    "\n",
    "Lets think bigger: can we use this model to construct a system that could generate heating information for a large family of architectural designs? We can, but the first step is going to be to carefully think about how to construct the set of equations.\n",
    "\n",
    "Lets look at the form of the equations above. If I specify that a house has $N$ rooms with temperatures $U_1,\\ldots, U_N$ and give matrices of the form\n",
    "\n",
    "$$\n",
    "M^{-1} = \\left[\\frac1{M_{i}}\\right] = \\left[\n",
    "\\begin{matrix}\n",
    "\\frac1{M_{1}}\n",
    "\\\\\n",
    "\\vdots\n",
    "\\\\\n",
    "\\frac1{M_{N}}\n",
    "\\end{matrix}\\right]\\,,\n",
    "\\hspace{3em}\n",
    "U = [U_{i}] = \\left[\n",
    "\\begin{matrix}\n",
    "U_1\n",
    "\\\\\n",
    "\\vdots\n",
    "\\\\\n",
    "U_N\n",
    "\\end{matrix}\\right]\\,,\n",
    "\\hspace{3em}\n",
    "K = [\\kappa_{i}] = \\left[\n",
    "\\begin{matrix}\n",
    "\\kappa_1\n",
    "\\\\\n",
    "\\vdots\n",
    "\\\\\n",
    "\\kappa_N\n",
    "\\end{matrix}\\right]\\,.\n",
    "$$\n",
    "\n",
    "Here, $\\kappa_i$ represent constant heat sources or sinks, adding or removing $\\kappa_i$ J/s of heat. Finally, let $r_{ij} = r_{ji} = \\frac{S_{ij}}{R_{ij}}$ and define a matrix\n",
    "\n",
    "$$\n",
    "H = \\left[\n",
    "\\begin{matrix}\n",
    "-r_{12} - r_{13} - \\ldots - r_{1N} & r_{12} & r_{13} &  \\ldots & r_{1N}\n",
    "\\\\\n",
    "r_{21} & -r_{21} - r_{23} - \\ldots - r_{2N} & r_{23} & \\ldots & r_{2N}\n",
    "\\\\\n",
    "\\vdots & & \\ddots &  &\\vdots \n",
    "\\\\\n",
    "r_{N1} & r_{N2}& r_{N3} & \\ldots & -r_{N1} - r_{N2} - \\ldots - r_{N,N-1}\n",
    "\\end{matrix}\\right]\\,.\n",
    "\\hspace{3em}\n",
    "$$\n",
    "Notice that this matrix is symmetric $H^T = H$.\n",
    "\n",
    "Verify that the system of equations in the 2x2 case can be written as\n",
    "\n",
    "$$\n",
    "U' = M^{-1}H U + k\n",
    "$$\n",
    "\n",
    "and propose a new vector formula which includes a constant outside temperature. "
   ]
  },
  {
   "cell_type": "code",
   "execution_count": null,
   "metadata": {},
   "outputs": [],
   "source": []
  },
  {
   "cell_type": "code",
   "execution_count": null,
   "metadata": {},
   "outputs": [],
   "source": []
  },
  {
   "cell_type": "markdown",
   "metadata": {},
   "source": [
    "#### Question 7:\n",
    "\n",
    "Consider a string of 5 square, $5\\times 5$ rooms, with a 6000 kJ heat sink in the center room and the building materials as stipulated before Question 1 and the outside temperature is a constant $35^\\circ C$. Let the initial temperature of all rooms be $25^\\circ C$. Simulate this situation and find the final equilibrium value. "
   ]
  },
  {
   "cell_type": "code",
   "execution_count": null,
   "metadata": {},
   "outputs": [],
   "source": []
  }
 ],
 "metadata": {
  "kernelspec": {
   "display_name": "Python 3",
   "language": "python",
   "name": "python3"
  },
  "language_info": {
   "codemirror_mode": {
    "name": "ipython",
    "version": 3
   },
   "file_extension": ".py",
   "mimetype": "text/x-python",
   "name": "python",
   "nbconvert_exporter": "python",
   "pygments_lexer": "ipython3",
   "version": "3.6.9"
  }
 },
 "nbformat": 4,
 "nbformat_minor": 2
}
