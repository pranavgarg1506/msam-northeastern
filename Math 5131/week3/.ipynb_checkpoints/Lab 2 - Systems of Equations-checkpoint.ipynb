{
 "cells": [
  {
   "cell_type": "markdown",
   "metadata": {},
   "source": [
    "## 1. Warmup: Autonomous Equations <a name=\"warmup\"></a><span class = \"ToTOC\"><a href=\"#TableOfContents\" style=\"text-decoration:none\">&#x2BA5;</a></span>\n",
    "\n",
    "First, lets import all of our libraries: numpy for our numerical toolkit, odeint to solve ODE's and the pyplot section of matplotlib to graph our data."
   ]
  },
  {
   "cell_type": "code",
   "execution_count": null,
   "metadata": {},
   "outputs": [],
   "source": [
    "from scipy.integrate import odeint\n",
    "import matplotlib.pyplot as plt\n",
    "import numpy as np"
   ]
  },
  {
   "cell_type": "markdown",
   "metadata": {},
   "source": [
    "Lets warm up by solving numerically the differential equation from the homework:\n",
    "\n",
    "$$\n",
    "\\frac{dy}{dt} = \\sin(y)\n",
    "$$\n",
    "\n",
    "We need to define a model, using `np.sin()` from the numpy library, and solve it using `odeint(model, y0, t)`, for initial condition $y(0) = .1$. Dont forget to define your time range using `np.linspace`, your time range should be between 0 and 20 approximately. "
   ]
  },
  {
   "cell_type": "code",
   "execution_count": null,
   "metadata": {},
   "outputs": [],
   "source": [
    "def model(y,t):\n",
    "    dydt = np.sin(y)\n",
    "    return dydt\n",
    "\n",
    "t = np.linspace(0,20)\n",
    "y0 = .1\n",
    "\n",
    "y_sol = odeint(model, y0, t)\n",
    "\n",
    "\n",
    "plt.plot(t,y_sol)"
   ]
  },
  {
   "cell_type": "markdown",
   "metadata": {},
   "source": [
    "### Revisiting loops: <a name=\"loops\"></a><span class = \"ToTOC\"><a href=\"#TableOfContents\" style=\"text-decoration:none\">&#x2BA5;</a></span>\n",
    "\n",
    "Lets say we want to plot 10 different initial conditions on the same plot to get a better feel for the space. One way to explore the solutions space would be to manually code in 10 different `y0` values, manually run odeint on each, and finally plot them all together. However, computers a very good at doing thing over and over, can Python do it for us?\n",
    "\n",
    "A **loop** is a piece of code that is run over and over again, possibly with changing variables. Python has a unique way of defining loops in terms of **lists**. Let's show a quick example, take a look at the code below and then run it."
   ]
  },
  {
   "cell_type": "code",
   "execution_count": null,
   "metadata": {},
   "outputs": [],
   "source": [
    "a_list = [1,3,7,12,-4]\n",
    "\n",
    "for var in a_list:      # Note,`var' is just a name, it could be anything\n",
    "    print(var)\n",
    "    print(2*var)\n",
    "    print(var**2)\n",
    "    print()"
   ]
  },
  {
   "cell_type": "markdown",
   "metadata": {},
   "source": [
    "In the code above, we define a list called `a_list` and put some number in it. Note, that any text must be surrounded by `''` marks. The **for** loop sets a variable called `var` to each of the elements of the list and runs the code below it for each value of `var`. First, it just prints `var`, then it multiplies by 2 and prints it, then squares it and prints it. \n",
    "\n",
    "In Python, a for loop just sets a variable to each element of a list and then runs some code. Try using a for loop to solve the ODE $$y' = sin(y)$$ and plot the solutions for $y_0 = 1,\\,2,\\,3,\\,4,\\,5,\\,6,\\,7,\\,8,\\,9,\\,10$. "
   ]
  },
  {
   "cell_type": "code",
   "execution_count": null,
   "metadata": {},
   "outputs": [],
   "source": [
    "initial_values = [0,1,2,3,4,5,6,7,8,9,10, 2*np.pi, 2*(3.14159)]\n",
    "\n",
    "for y0 in initial_values:\n",
    "    y_sol = odeint(model, y0, t)\n",
    "    plt.plot(t,y_sol)"
   ]
  },
  {
   "cell_type": "markdown",
   "metadata": {},
   "source": [
    "Note: What happens if you start on the unstable equilibrium solution $2\\pi$? Try it using `2*np.pi` and `2*(3.14159)`. Why do you think there's a difference?"
   ]
  },
  {
   "cell_type": "code",
   "execution_count": null,
   "metadata": {},
   "outputs": [],
   "source": []
  },
  {
   "cell_type": "code",
   "execution_count": null,
   "metadata": {},
   "outputs": [],
   "source": []
  },
  {
   "cell_type": "markdown",
   "metadata": {},
   "source": [
    "## 2. Systems of differential equations <a name=\"systemsofdiffeqs\"></a><span class = \"ToTOC\"><a href=\"#TableOfContents\" style=\"text-decoration:none\">&#x2BA5;</a></span>\n",
    "\n",
    "The `odeint` solver can also handle coupled systems of differential equations, the model function just needs to output a *vector* $\\vec X' = \\left[\\frac{dx}{dt},\\frac{dy}{dt}\\right]$ instead of a single *value* like $\\frac{dy}{dt}$. For example, consider the coupled equations\n",
    "\n",
    "\\begin{align}\n",
    "\\frac{dx}{dt} &= y(t)\\,,\\hspace{4em} &x(0)&=0\\,,\n",
    "\\\\\n",
    "\\frac{dy}{dt} &= -x(t)\\,, &y(0)&=1\\,.\n",
    "\\end{align}\n",
    "\n",
    "Writing\n",
    "\n",
    "$$\n",
    "\\vec X' = \\left[\\begin{matrix} x'\\\\y' \\end{matrix}\\right] = \\left[\\begin{matrix} y\\\\-x \\end{matrix}\\right]\n",
    "$$\n",
    "\n",
    "We can solve this system of equations using `odeint` by using the vector `X = [x,y]` for $\\vec X$, and making our function `model(X,t)` a function of `X` that returns a vector `dXdt = [dxdt,dydt]`. Take a look at the code below, and then read the following explanation."
   ]
  },
  {
   "cell_type": "code",
   "execution_count": null,
   "metadata": {},
   "outputs": [],
   "source": [
    "def model(X,t):\n",
    "    x,y = X\n",
    "    dXdt = [y,-x]\n",
    "    return dXdt"
   ]
  },
  {
   "cell_type": "markdown",
   "metadata": {},
   "source": [
    "In the code above, we know that `X` is actually a list with two entries. The line `x,y = X` saves those entries to variables `x` and `y`. This can them easier to use, but we could also use `X[0]` and `X[1]`. \n",
    "\n",
    "In the second line, we make a new list which the first entry containing the formula for $x'$ and the second entry containing the formula for `y'`. We then return the vector of derivatives. \n",
    "\n",
    "Take a second and run this function on different inputs."
   ]
  },
  {
   "cell_type": "code",
   "execution_count": null,
   "metadata": {},
   "outputs": [],
   "source": []
  },
  {
   "cell_type": "markdown",
   "metadata": {},
   "source": [
    "Now, to fit we just set the starting values for `x` and `y` by specifying `X0 = [0,1]` and run the estimator."
   ]
  },
  {
   "cell_type": "code",
   "execution_count": null,
   "metadata": {
    "scrolled": true
   },
   "outputs": [],
   "source": [
    "X0 = [0,1]\n",
    "t = np.linspace(0,10,100)\n",
    "\n",
    "sol = odeint(model,X0,t)\n",
    "\n",
    "print(sol)"
   ]
  },
  {
   "cell_type": "markdown",
   "metadata": {},
   "source": [
    "The first column of `sol` is the list of `x` values associated to each `t` value and the second column is the list of `y` values. We can plot these on the graph. \n",
    "\n",
    "How do we get a column of just the `x` values or just the `y` values? Python uses matrix like notation to access elements of a list, except that **the first column and first row is always 0 not 1**.\n",
    "\n",
    "For example, `sol[4,0]` is the 5'th row of column 0 and `sol[4,1]` is the 5'th row of column 1: "
   ]
  },
  {
   "cell_type": "code",
   "execution_count": null,
   "metadata": {},
   "outputs": [],
   "source": []
  },
  {
   "cell_type": "markdown",
   "metadata": {},
   "source": [
    "To get *all* of the rows in column 1, we use the __slice delimiter__ `:`. The slice delimiter helps us select subsets of a list, for examples `sol[3:7,0]` returns rows 3 __up to__ row 7 of the column 0; that is rows 3, 4, 5, 6. \n",
    "\n",
    "<div class=\"alert alert-block alert-danger\">\n",
    "<b>Warning:</b> By Python convention, `sol[a:b]` returns the vector entries from `a` to `b-1`. The reason is that Python wants `sol[:4]` to return the first `4` entries but Python since starts indexing from 0 the first 4 entries are `sol[0], sol[1], sol[2], sol[3]`. \n",
    "\n",
    "This can take some getting used to, but it does mean that `sol[a:b]` returns exactly $b-a$ entries.\n",
    "</div>"
   ]
  },
  {
   "cell_type": "code",
   "execution_count": null,
   "metadata": {},
   "outputs": [],
   "source": []
  },
  {
   "cell_type": "markdown",
   "metadata": {},
   "source": [
    "To get a full column, we just use the slice operator alone. For example `sol[:,0]` returns the whole of column 0, just like `sol[4,:]` returns all of row 4. "
   ]
  },
  {
   "cell_type": "code",
   "execution_count": null,
   "metadata": {},
   "outputs": [],
   "source": [
    "xsol = sol[:,0]\n",
    "ysol = sol[:,1]"
   ]
  },
  {
   "cell_type": "markdown",
   "metadata": {},
   "source": [
    "We can now plot our solutions for $x$ and $y$:"
   ]
  },
  {
   "cell_type": "code",
   "execution_count": null,
   "metadata": {},
   "outputs": [],
   "source": [
    "## \n",
    "plt.plot(t,xsol)\n",
    "plt.plot(t,ysol)"
   ]
  },
  {
   "cell_type": "markdown",
   "metadata": {},
   "source": [
    "*or* think about them as tracing out a path $(x(t), y(t)) \\in \\mathbb{R}^2$ by plotting them against each other. "
   ]
  },
  {
   "cell_type": "code",
   "execution_count": null,
   "metadata": {},
   "outputs": [],
   "source": [
    "plt.plot(xsol,ysol)"
   ]
  },
  {
   "cell_type": "markdown",
   "metadata": {},
   "source": [
    "Note, we could also just plot the columns of the array of solutions:"
   ]
  },
  {
   "cell_type": "code",
   "execution_count": null,
   "metadata": {},
   "outputs": [],
   "source": [
    "plt.plot(sol[:,0],sol[:,1])"
   ]
  },
  {
   "cell_type": "markdown",
   "metadata": {},
   "source": [
    "## Practice: <a name=\"apps2\"></a>\n",
    "\n",
    "### 2.1 Coupled Linear Systems <a name=\"CLS\"></a><span class = \"ToTOC\"><a href=\"#TableOfContents\" style=\"text-decoration:none\">&#x2BA5;</a></span>\n",
    "\n",
    "Use a model with vector input `X` and output `[dxdt,dydt]` to solve the initial value problem \n",
    "\n",
    "\\begin{align}\n",
    "\\frac{dx}{dt} &= .7x(t) + y(t)\\,,\\hspace{4em} &x(0)&=0\\,,\n",
    "\\\\\n",
    "\\frac{dy}{dt} &= -x(t)\\,, &y(0)&=1\\,.\n",
    "\\end{align}\n",
    "\n",
    "Set up a `model` for this system and solve it for $t\\in [0,20]$ using `odeint` and plot $x$ vs $t$, $y$ vs $t$ and $x$ vs $y$.."
   ]
  },
  {
   "cell_type": "code",
   "execution_count": null,
   "metadata": {},
   "outputs": [],
   "source": []
  },
  {
   "cell_type": "code",
   "execution_count": null,
   "metadata": {},
   "outputs": [],
   "source": []
  },
  {
   "cell_type": "markdown",
   "metadata": {},
   "source": [
    "### 2.3 Coupled Nonlinear Systems <a name=\"CNLS\"></a><span class = \"ToTOC\"><a href=\"#TableOfContents\" style=\"text-decoration:none\">&#x2BA5;</a></span>\n",
    "\n",
    "Use a model with vector input `X` and output `[dxdt,dydt]` to solve the initial value problem \n",
    "\n",
    "\\begin{align}\n",
    "\\frac{dx}{dt} &= \\frac{yx}{10} - y\\,,\\hspace{4em} &x(0)&=1\\,,\n",
    "\\\\\n",
    "\\frac{dy}{dt} &= x- \\frac{xy}4 \\,, &y(0)&=1\\,.\n",
    "\\end{align}\n",
    "\n",
    "Set up a `model` for this system and solve it for $t\\in [0,10]$ using `odeint` and plot $x$ vs $t$, $y$ vs $t$ and $x$ vs $y$. "
   ]
  },
  {
   "cell_type": "code",
   "execution_count": null,
   "metadata": {},
   "outputs": [],
   "source": []
  },
  {
   "cell_type": "code",
   "execution_count": null,
   "metadata": {},
   "outputs": [],
   "source": []
  },
  {
   "cell_type": "code",
   "execution_count": null,
   "metadata": {},
   "outputs": [],
   "source": []
  },
  {
   "cell_type": "markdown",
   "metadata": {},
   "source": [
    "## 3. Subplots<a name=\"subplots\"></a><span class = \"ToTOC\"><a href=\"#TableOfContents\" style=\"text-decoration:none\">&#x2BA5;</a></span>\n",
    "\n",
    "There are two ways to use subplots with Python, the first to explicitly define a grid of plots and then plot to each entry in the grid. The second is to implicitly plot to a grid of plots, and let Python work out if you can do that or not. \n",
    "\n",
    "### Explicit Plotting:\n",
    "\n",
    "To compare multiple features at once it's useful to create a matrix of side by side subplots. To create such a matrix, we use the subplots call to include a shape vector describing the number of subplots we want\n",
    "\n",
    "* `fig, axes = plt.subplots(m,n, figsize = [W,H] )` returns an `m` by `n` matrix of subplots. It stores the reference variable for each subplot in the matrix of subplots in the list `axes`. It also returns a reference to the overall figure containing the subplots, which we store in `fig`. You can plot to the subplot in position (i,j) with `axes[i,j].plot(xvalues, yvalues)`. \n",
    "\n",
    "    In addition to allowing multiple plots, the `subplots` function allows us to control the size of the overall figure with the `figsize` variable. `figsize` takes a vector giving the height and width of the figure in inches. \n",
    " \n",
    "    For more information [see the documentation](https://matplotlib.org/3.1.1/gallery/subplots_axes_and_figures/subplots_demo.html).\n",
    "    \n",
    "<img width = 400 src=\"https://i.postimg.cc/rpBDD4X2/L2Img1.png\">\n",
    "\n",
    "For example, we can summarize the $x$ vs $t$, $y$ vs $t$ and $y$ vs $x$ plots using three subplots of a 2x2 grid. Note that instead of calling `plt.plot(...)` we now plot directly to each axis by calling `axes[i,j].plot(...)`.\n",
    "\n",
    "When using explicit subplots, we have to use different functions to set the title, axis and legend:\n",
    "\n",
    "* `axes[i,j].set_title('Title', fontsize=20)`  - Set the title of the axis $i$, $j$ with a particular fontsize.\n",
    "* `axes[i,j].set_xlabel('x', fontsize=20)` - Set the axis labels of the axis $i$, $j$ with a particular fontsize.\n",
    "* `axes[i,j].legend(loc='upper right', fontsize=20)` - Generates a legend for axis $i$, $j$ with a particular fontsize."
   ]
  },
  {
   "cell_type": "code",
   "execution_count": null,
   "metadata": {},
   "outputs": [],
   "source": [
    "f, axes = plt.subplots(2,2, figsize = [20,10])\n",
    "\n",
    "axes[0,0].plot(sol[:,0],sol[:,1], label=\"Phase Line\")\n",
    "axes[0,0].set_title('y vs x')\n",
    "axes[0,0].set_xlabel('x')\n",
    "axes[0,0].set_ylabel('y')\n",
    "axes[0,0].legend(loc=\"upper right\", fontsize=20)\n",
    "\n",
    "axes[1,0].plot(t,sol[:,1])\n",
    "axes[1,0].set_title('y vs t', fontsize=20)\n",
    "axes[1,0].set_xlabel('t', fontsize=20)\n",
    "axes[1,0].set_ylabel('y', fontsize=20)\n",
    "\n",
    "axes[0,1].plot(t,sol[:,1])\n",
    "axes[0,1].set_title('x vs t')\n",
    "axes[0,1].set_xlabel('t', fontsize=10)\n",
    "axes[0,1].set_ylabel('x', fontsize=10)"
   ]
  },
  {
   "cell_type": "markdown",
   "metadata": {},
   "source": [
    "Or, since we have an empty grid slot, we can use a 1 by 3 grid:"
   ]
  },
  {
   "cell_type": "code",
   "execution_count": null,
   "metadata": {},
   "outputs": [],
   "source": []
  },
  {
   "cell_type": "code",
   "execution_count": null,
   "metadata": {},
   "outputs": [],
   "source": []
  },
  {
   "cell_type": "markdown",
   "metadata": {},
   "source": [
    "### Implicit Plotting:\n",
    "\n",
    "Python also allows implicit plotting using `plt.subplot()`:\n",
    "\n",
    "* `plt.subplot(mni)` or ` plt.subplot(m,n,i)` - Sets the default plot to plot with index `i` on a grid of `m` by `n` plots. Here, `m` is the number of rows, `n` is the number of columns. The index `i` starts counting at 1 from the top left corner and increases down the rows. After `plt.subplot()` has been called, it can be plotted to using `plt.plot()`. \n",
    "\n",
    "<img width = 600 src=\"https://i.postimg.cc/zBmPxqRY/L2Img2.png\">\n",
    "\n",
    "\n",
    "You can set the size of the figure and the spacing between the subplots using\n",
    "\n",
    "* `f = plt.figure(figsize=[M,N])` - Make a new figure with width `M` and height `N`.\n",
    "* `f.subplots_adjust(wspace=1, hspace=.5)` - Adjust the offsets and padding for the subplots. This allows you to control the spacing between axes. "
   ]
  },
  {
   "cell_type": "code",
   "execution_count": null,
   "metadata": {},
   "outputs": [],
   "source": [
    "f = plt.figure(figsize=[10,5])\n",
    "f.subplots_adjust(left=None, bottom=None, right=None, top=None, wspace=None, hspace=.5)\n",
    "\n",
    "plt.subplot(231)\n",
    "\n",
    "plt.plot(sol[:,0],sol[:,1])\n",
    "plt.title('y vs x')\n",
    "plt.xlabel('x')\n",
    "plt.ylabel('y')\n",
    "\n",
    "plt.subplot(234)\n",
    "plt.plot(t,sol[:,1])\n",
    "plt.title('y vs x')\n",
    "plt.xlabel('x')\n",
    "\n",
    "plt.subplot(236)\n",
    "\n",
    "plt.plot(t,sol[:,1])\n",
    "plt.title('y vs x')\n",
    "plt.xlabel('x')"
   ]
  },
  {
   "cell_type": "markdown",
   "metadata": {},
   "source": [
    "The main advantages of using implicit plotting are twofold: first, you can use the standard plot functions to add labels, legends, and titles. Second, you can mix and match the sizes of graphs, as long as the grids match. For example, we can combine the 2x2 grid with the 1x2 grid, plotting a single plot over the two right subplots.\n",
    "\n",
    "<img width = 400 src=\"https://i.postimg.cc/QC6MQ4Yw/L2Img3.png\">"
   ]
  },
  {
   "cell_type": "code",
   "execution_count": null,
   "metadata": {},
   "outputs": [],
   "source": []
  },
  {
   "cell_type": "code",
   "execution_count": null,
   "metadata": {},
   "outputs": [],
   "source": []
  },
  {
   "cell_type": "markdown",
   "metadata": {},
   "source": [
    "### 3.1 Practice: <a name=\"PRC\"></a><span class = \"ToTOC\"><a href=\"#TableOfContents\" style=\"text-decoration:none\">&#x2BA5;</a></span>\n",
    "\n",
    "\n",
    "Use a model with vector input `X` and output `[dxdt,dydt]` to solve the initial value problem \n",
    "\n",
    "\\begin{align}\n",
    "\\frac{dx}{dt} &= x(1-x) - 5\\frac{xy}{1+x} \\,,\\hspace{4em} &x(0)&=1\\,,\n",
    "\\\\\n",
    "\\frac{dy}{dt} &= 5\\frac{xy}{1+x} - y \\,, &y(0)&=1\\,.\n",
    "\\end{align}\n",
    "\n",
    "Set up a `model` for this system and solve it for $t\\in [0,50]$ using `odeint` and plot $x$ vs $t$, $y$ vs $t$ and $x$ vs $y$."
   ]
  },
  {
   "cell_type": "code",
   "execution_count": null,
   "metadata": {
    "scrolled": true
   },
   "outputs": [],
   "source": []
  },
  {
   "cell_type": "code",
   "execution_count": null,
   "metadata": {},
   "outputs": [],
   "source": []
  },
  {
   "cell_type": "markdown",
   "metadata": {},
   "source": [
    "### 3.2 Coupled Non-smooth Systems <a name=\"CNSS\"></a><span class = \"ToTOC\"><a href=\"#TableOfContents\" style=\"text-decoration:none\">&#x2BA5;</a></span>\n",
    "\n",
    "Consider the simple digestion model, where a drug is absorbed into the stomach, passes to the blood stream and then is filtered out by the kidneys. If the concentration in the stomach, blood and kidneys are respectively $S$, $B$ and $K$, one way diffusion yields the the following system of equations\n",
    "\n",
    "\\begin{align}\n",
    "\\frac{dS}{dt} &= -r_S S\n",
    "\\\\\n",
    "\\frac{dB}{dt} &= a_B S - r_B B\n",
    "\\\\\n",
    "\\frac{dK}{dt} &=  a_K B\n",
    "\\end{align}\n",
    "\n",
    "Assume that the kinetic constants are $r_S = 2.28$ and $a_B = .91$, $r_B = .53$ and $a_K = .0155$ . A dose of drug is quickly absorbed into the stomach, brining the concentration to 55 mg/L. In these equations, $t$ is given in hours and a does is given every 5 hours.\n",
    "\n",
    "To model this system, we will iterate the ode solver over intervals of 10 hours to check the result of redosing. First, set up an solve the system above for $S(0) = 55$, $B(0) = 0$ and $K(0) = 0$ over the first 24 hours. What is the maximum concentration of drug in the blood?"
   ]
  },
  {
   "cell_type": "code",
   "execution_count": null,
   "metadata": {},
   "outputs": [],
   "source": []
  },
  {
   "cell_type": "code",
   "execution_count": null,
   "metadata": {},
   "outputs": [],
   "source": []
  },
  {
   "cell_type": "markdown",
   "metadata": {},
   "source": [
    "Now, we will run the ODE solver for 24 hours exactly. We will then take the last set of values for $[S,B,K]$, add 55 to $S$, and feed the resulting vector back into the ODE solver for the next 24 hours. \n",
    "\n",
    "\n",
    "If we do this many times, is there a maximum $B$ can reach, or could it theoretically rise infinitely? Does the minimum amount stabilize, and at what value?\n",
    "\n",
    "How could we answer these questions analytically?"
   ]
  },
  {
   "cell_type": "code",
   "execution_count": null,
   "metadata": {},
   "outputs": [],
   "source": []
  },
  {
   "cell_type": "code",
   "execution_count": null,
   "metadata": {},
   "outputs": [],
   "source": []
  },
  {
   "cell_type": "markdown",
   "metadata": {},
   "source": [
    "## Case Study: Influenza Outbreak <a name=\"CTD\"></a><span class = \"ToTOC\"><a href=\"#TableOfContents\" style=\"text-decoration:none\">&#x2BA5;</a></span>\n",
    "\n",
    "In [\"Anonymous (1978). Influenza in a boarding school\"](https://www.ncbi.nlm.nih.gov/pmc/articles/PMC1603269/pdf/brmedj00115-0064.pdf) the number of cases per day of an influenza infection in a English boarding school was measured. A total of 763 boys between the ages of 10 and 18 were at risk. \n",
    "\n",
    "This information is summarized in a database by the [R Epidemics Consortium (RECON)](http://www.repidemicsconsortium.org/outbreaks/index.html), the details of which can be found [here](http://www.repidemicsconsortium.org/outbreaks/reference/influenza_england_1978_school.html). Below, we put this information in an object called a **data frame**. A data frame is a table with headings, so that you can access the entries in a more human readable way.  "
   ]
  },
  {
   "cell_type": "code",
   "execution_count": null,
   "metadata": {},
   "outputs": [],
   "source": [
    "import pandas as pd\n",
    "\n",
    "d = {'day': [1, 2, 3, 4, 5, 6, 7, 8, 9, 10, 11, 12, 13, 14],\n",
    "     'in_bed': [3, 7, 22, 78, 233, 300, 256, 233, 189, 128, 72, 33, 11, 6]}\n",
    "\n",
    "influenza = pd.DataFrame(d)\n",
    "influenza"
   ]
  },
  {
   "cell_type": "markdown",
   "metadata": {},
   "source": [
    "The columns of the dataframe can be access by name by using `influenza['day']`"
   ]
  },
  {
   "cell_type": "code",
   "execution_count": null,
   "metadata": {},
   "outputs": [],
   "source": [
    "print(influenza['day'])\n",
    "print(influenza['in_bed'])"
   ]
  },
  {
   "cell_type": "markdown",
   "metadata": {},
   "source": [
    "We can plot the number of sick children from the 'influenza' dataset using the same plot function at before, only this time we may want to change from a line plot to a scatter plot. We do this by adding a flag `'o'` after the `x` and `y` data:"
   ]
  },
  {
   "cell_type": "code",
   "execution_count": null,
   "metadata": {},
   "outputs": [],
   "source": [
    "plt.plot(influenza['day'],influenza['in_bed'],'o')"
   ]
  },
  {
   "cell_type": "markdown",
   "metadata": {},
   "source": [
    "Lets return to our SIR epidemic model. Since the recovered patients don't feed back into the system we only model the susceptible and infected patients:\n",
    "\n",
    "\\begin{align}\n",
    "\\frac{dS}{dt} &= -\\beta S I\\,,\n",
    "\\\\\n",
    "\\frac{dI}{dt} &= \\beta S I- \\gamma I\\,,\n",
    "\\end{align}\n",
    "\n",
    "for $t\\in[0,20]$. Barnes and Fulford estimate transmission coefficient at $\\beta = 2.18\\times 10^{-3}$ and the recovery rate at $\\gamma = 0.44$, $I(0) = 0$. Setup and solve a model for this differential equation and plot the results on the $S$ vs $I$ plane for $I(0) = 1$ and $S(0) = 100, 200, 300, 400, 500$ and $800$. \n",
    "\n",
    "\n",
    "\n",
    "### Analytic Problem 1: \n",
    "\n",
    "Compute the basic reproduction number given the values of $\\beta$ and $\\gamma$. What is the population above which an epidemic will result? Check this result numerically by plotting the solution for $I_0 = 1$ and $S_0$ equal to the basic reproduction number, a little above, and a little below. \n",
    "\n",
    "If you are unsure about this, see the discussion of the _basic reproduction number_ in Section 5.1 of the book."
   ]
  },
  {
   "cell_type": "code",
   "execution_count": null,
   "metadata": {},
   "outputs": [],
   "source": []
  },
  {
   "cell_type": "code",
   "execution_count": null,
   "metadata": {},
   "outputs": [],
   "source": []
  },
  {
   "cell_type": "markdown",
   "metadata": {},
   "source": [
    "### Computational Problem 2\n",
    "\n",
    "Compare the model we have constructed to the actual data when the initial susceptible population is 736. Plot the modeled result for the infected population on the same plot at the actual data.\n",
    "\n",
    "Lets assume further that the error in the parameters may be wrong by up to 10%. It is difficult to construct explicit confidence intervals for differential equations but we can get a heuristic estimate by checking the 4 combinations of extreme values for the parameters: $\\beta (1\\pm .1)$ and $\\gamma (1 \\pm .1)$. How many points are captured within this makeshift confidence interval? "
   ]
  },
  {
   "cell_type": "code",
   "execution_count": null,
   "metadata": {
    "scrolled": true
   },
   "outputs": [],
   "source": []
  },
  {
   "cell_type": "code",
   "execution_count": null,
   "metadata": {},
   "outputs": [],
   "source": []
  },
  {
   "cell_type": "markdown",
   "metadata": {},
   "source": [
    "### Discussion Problem 3:\n",
    "\n",
    "1) Does the model with the given paramaters fit the data well? Why or why not?\n",
    "\n",
    "2) Assume we construct a confidence interval by taking the maximum and minimum value of $I(t)$ for all $\\beta$ and $\\gamma$ within 10% of the given values. Would the boundary of the interval be smooth?"
   ]
  },
  {
   "cell_type": "markdown",
   "metadata": {},
   "source": [
    "# Homework:\n",
    "\n",
    "## Computation:\n",
    "\n",
    "### Problem 1:\n",
    "\n",
    "Explicitly solve the system of equations below:\n",
    "\n",
    "\\begin{align*}\n",
    "x_1 &= 2x_1 - 3x_2\n",
    "\\\\\n",
    "x_2 &= -4x_1 +3x_2\n",
    "\\end{align*}\n",
    "\n",
    "### Problem 2:\n",
    "\n",
    "Describe the solutions to the following system of equations:\n",
    "\n",
    "\\begin{align*}\n",
    "x_1 &= 2x_1 + 4x_2\n",
    "\\\\\n",
    "x_2 &= -x_1 +2x_2\n",
    "\\end{align*}\n",
    "\n",
    "\n",
    "### Problem 3:\n",
    "\n",
    "Consider the system of equations\n",
    "\n",
    "\\begin{align*}\n",
    "x_1 &= -2x_1 + ax_2\n",
    "\\\\\n",
    "x_2 &= -ax_1 +3x_2\n",
    "\\end{align*}\n",
    "\n",
    "Describe the asymptotic behavior of the solutions for different values of $a$ using the trace determinant plane. What are the phases of the solutions?"
   ]
  },
  {
   "cell_type": "markdown",
   "metadata": {},
   "source": [
    "## Case Study: Cholera Outbreak <a name=\"CASE1\"></a><span class = \"ToTOC\"><a href=\"#TableOfContents\" style=\"text-decoration:none\">&#x2BA5;</a></span>\n",
    "\n",
    "#### Background:\n",
    "\n",
    "Based on [Endemic and Epidemic Dynamics of Cholera: The Role of the Aquatic Reservoir](https://www.researchgate.net/publication/12123535_Endemic_and_Epidemic_Dynamics_of_Cholera_The_Role_of_the_Aquatic_Reservoir) and the textbook.\n",
    "\n",
    "Cholera is a water born disease that is particularly dangerous in areas where sanitation is inadequate and sewage can find its way into the drinking water supply. Modeling can provide an understanding of the circumstances under which an outbreak can occur. Here we formulate a model that include interacting susceptible and infectious populations. However, what is different from the usual case is twofold: first, we include transmission from the environment and second we imagine tracking the disease over a long period of time and so we include birth and death rates. \n",
    "\n",
    "#### Governing Equations:\n",
    "The variables needed to describe the prevalence of cholera in the population are $S(t)$, susceptible, and $I(t)$, infective, where $t$ is time. Another important variable is the concentration of cholera bacteria in the water supply. We will use $B(t)$ to represent bacterial concentration. This will change in time as more bacteria enter the water supply through ongoing sewage contaminations, which then increases with an increasing number of infected producing cholera bacteria. \n",
    "\n",
    "#### State Variables:\n",
    "\n",
    "|Parameter| Description |\n",
    "|---|---|\n",
    "|$S$| Number of susceptible |\n",
    "|$I$| Number of infected |\n",
    "|$B$| Concentration of cells in water (cells/ml)|\n",
    "\n",
    "#### Parameters:\n",
    "\n",
    "|Parameter| Description | Village 1 | Village 2 | Village 3|\n",
    "|---|---|---|---|---|\n",
    "|$H$| Total human population |10,000|10,000|10,000|\n",
    "|$a$| Rate of exposure to contaminated water (days$^{-1}$) |.5|1|1|\n",
    "|$k$| Concentration of bacteria that leads to 50% infection rate (cells/ml) |$10^6$|$10^6$|$10^6$|\n",
    "|$r$| Recovery rate (days$^{-1}$) |0.2|0.2|0.2|\n",
    "|$n_b$| Growth/death rate of cholera bacteria in water (days$^{-1}$) |-.33|-.33|-.33|\n",
    "|$e$| Rate of bacteria excretion per person $\\left(\\frac{\\text{cells}}{\\text{(ml)(days)(person)}}\\right)$|10|10|10|\n",
    "\n",
    "#### Equations:\n",
    "\n",
    "We set up the following system of differential equations:\n",
    "\n",
    "\\begin{align}\n",
    "\\frac{dS}{dt} &= -\\lambda(B)S\\,,\n",
    "\\\\\n",
    "\\frac{dI}{dt} &= \\lambda(B)S - rI\\,,\n",
    "\\\\\n",
    "\\frac{dB}{dt} &= Bn_b + eI\\,.\n",
    "\\end{align}\n",
    "\n",
    "Here, $\\lambda(B)$ is the **force of infection**. We assume that cholera is only contracted through contact with the environment and not through person-to-person contact. The force of infection is the probability per unit time of a susceptible being infected. While we could assume the probability is proportional to the bacterial concentration $B(t)$ times rate of exposure $a$, it is more realistic to assume it is linear for small $B(t)$ and then tends to 1 (100% of infection) as $B$ becomes large. We thus use a standard **hill function**\n",
    "\n",
    "$$\n",
    "\\lambda(B) = ap(B) = a\\frac{B}{k+B}\\,.\n",
    "$$\n",
    "\n",
    "Substituting this in for $\\lambda(B)$ we obtain the equations\n",
    "\n",
    "\\begin{align}\n",
    "\\frac{dS}{dt} &= -a\\frac{B}{k+B}S\n",
    "\\\\\n",
    "\\frac{dI}{dt} &= a\\frac{B}{k+B}S - rI\n",
    "\\\\\n",
    "\\frac{dB}{dt} &= Bn_b + eI\n",
    "\\end{align}\n",
    "\n",
    "\n",
    "### Overview:\n",
    "\n",
    "In the questions below, we will explore whether the equations above can simulation the following situations: \n",
    "\n",
    "* No outbreak occurs.\n",
    "* A finite outbreak occurs.\n",
    "* Cyclic outbreak occur as new susceptible population members are added.\n",
    "\n",
    "We want to understand the relationship between the parameters $a$, $k$, $r$, $n_b$ and $e$ and the outcome of the epidemic.  Since there are three dynamic variables, it is difficult to draw a 2d trajectory diagram based on nullclines. Instead, we will explore the equations numerically, and then use steady state assumptions as derive the critical town size. "
   ]
  },
  {
   "cell_type": "markdown",
   "metadata": {},
   "source": [
    "### Computational Question 1:\n",
    "\n",
    "Set up the model for the system of differential equations corresponding to Village 1. We want to understand the population size at which an outbreak will occur. \n",
    "\n",
    "Simulate the equations above for no bacteria and single sick patient, that is $S(0) = H-1$, $I(0) = 10$ and $B(0) = 0$ for \n",
    "\n",
    "$$\n",
    "H = [9000, 11000, 13000, 15000, 17000]\n",
    "$$\n",
    "\n",
    "Plot $S(t)$ vs $I(t)$ for each of the initial populations on the same graph. Be sure to label your axes. \n",
    "\n",
    "To the nearest 100, what is the smallest value of $H$ for which there is no increase in the number of infected?"
   ]
  },
  {
   "cell_type": "code",
   "execution_count": null,
   "metadata": {},
   "outputs": [],
   "source": []
  },
  {
   "cell_type": "code",
   "execution_count": null,
   "metadata": {},
   "outputs": [],
   "source": []
  },
  {
   "cell_type": "code",
   "execution_count": null,
   "metadata": {},
   "outputs": [],
   "source": []
  },
  {
   "cell_type": "markdown",
   "metadata": {},
   "source": [
    "### Analytic Question 2:\n",
    "\n",
    "We want to determine the **basic reproduction number** $R_0$ and from it the **critical town size** $S_C$, that is the town size for which a single infected member of the population will lead to an outbreak. To determine if an outbreak will occur, we must determine if a single member of the population can infect more than 1 other member of the population during the time they are sick. \n",
    "\n",
    "We will estimate the maximum amount of bacteria produced by a single infected $B_1$ will be the equilibrium solution for $B'$ when $I = 1$\n",
    "\n",
    "$$\n",
    "0 = B' = B_1 n_b + e \\hspace{4em} \\Rightarrow \\hspace{4em} B_1 = -\\frac e{n_b}\n",
    "$$\n",
    "\n",
    "For a single infection, we assume that $B_1 << K$, so we can also assume that \n",
    "\n",
    "$$\n",
    "\\frac{B_1}{k+B_1} \\approx \\frac{B_1}{k}\\,.\n",
    "$$\n",
    "\n",
    "#### Question 2.a:\n",
    "\n",
    "Using $B \\approx B_1$ when $I=1$, find a formula for the basic reproduction number by solving $I' = 0$. This formula gives a condition for the number of infections to be roughly constant."
   ]
  },
  {
   "cell_type": "markdown",
   "metadata": {},
   "source": []
  },
  {
   "cell_type": "markdown",
   "metadata": {},
   "source": [
    "#### Question 2.b: \n",
    "\n",
    "The number of infected will increase if $R_0>0$. Solve $R_0>0$ for an expression for the **critical town size** $S_0$ such that $R_0>0$."
   ]
  },
  {
   "cell_type": "markdown",
   "metadata": {},
   "source": []
  },
  {
   "cell_type": "markdown",
   "metadata": {},
   "source": [
    "### Computational Question 3:\n",
    "\n",
    "Ultimately, we want to construct a kind of \"phase space\" for the parameters so we can understand clearly how different starting conditions lead to different kinds of outcomes, and hopefully to prevent outbreaks. Using your formula from Question 2 we want to use the critical town side to evaluate the changing of different parameters. \n",
    "\n",
    "#### Question 3.a:\n",
    "\n",
    "Fix all quantities as in the table in the case study. Construct a phase plot for the parameters\n",
    "\n",
    "    1) $S_0$ vs $e$, $a = .5$,\n",
    "    2) $S_0$ vs $a$, $e = 10$,\n",
    "    3) $a$ vs $e$, $S_0 = 10,000$,\n",
    "\n",
    "by plotting the line $R_0 = 0$. Clearly describe for which values of the parameters on each chart the outbreak will occur. "
   ]
  },
  {
   "cell_type": "markdown",
   "metadata": {},
   "source": []
  },
  {
   "cell_type": "markdown",
   "metadata": {},
   "source": [
    "#### Question 3.b:\n",
    "\n",
    "Given the initial starting values, if it is equally easy to increase/decrease $e$ and $a$ by a fixed percentage, which would be the most efficient variable to adjust?"
   ]
  },
  {
   "cell_type": "markdown",
   "metadata": {},
   "source": []
  },
  {
   "cell_type": "markdown",
   "metadata": {},
   "source": [
    "### Analytic Question 4:\n",
    "\n",
    "Assume that after a time the population becomes susceptible again. We will model this situation by adding a recovered population that slowly moves back into the susceptible population. \n",
    "\n",
    "\\begin{align}\n",
    "\\frac{dS}{dt} &= -a\\frac{B}{k+B}S + dR\n",
    "\\\\\n",
    "\\frac{dI}{dt} &= a\\frac{B}{k+B}S - rI\n",
    "\\\\\n",
    "\\frac{dB}{dt} &= Bn_b + eI\n",
    "\\\\\n",
    "\\frac{dR}{dt} &= rI - dR\n",
    "\\end{align}\n",
    "\n",
    "#### Problem 4.a:\n",
    "\n",
    "Find the equilibrium solutions to the equations above. There are different numbers of equilibrium solutions for different values of the parameters. Classify these behaviors. "
   ]
  },
  {
   "cell_type": "code",
   "execution_count": null,
   "metadata": {},
   "outputs": [],
   "source": []
  },
  {
   "cell_type": "markdown",
   "metadata": {},
   "source": [
    "#### Problem 4.b:\n",
    "\n",
    "Numerically solve for an example where there is an equilibrium solution with nonzero $I$. Plot the result and describe the behavior . "
   ]
  },
  {
   "cell_type": "code",
   "execution_count": null,
   "metadata": {},
   "outputs": [],
   "source": []
  },
  {
   "cell_type": "code",
   "execution_count": null,
   "metadata": {},
   "outputs": [],
   "source": []
  }
 ],
 "metadata": {
  "kernelspec": {
   "display_name": "Python 3",
   "language": "python",
   "name": "python3"
  },
  "language_info": {
   "codemirror_mode": {
    "name": "ipython",
    "version": 3
   },
   "file_extension": ".py",
   "mimetype": "text/x-python",
   "name": "python",
   "nbconvert_exporter": "python",
   "pygments_lexer": "ipython3",
   "version": "3.6.9"
  }
 },
 "nbformat": 4,
 "nbformat_minor": 2
}
