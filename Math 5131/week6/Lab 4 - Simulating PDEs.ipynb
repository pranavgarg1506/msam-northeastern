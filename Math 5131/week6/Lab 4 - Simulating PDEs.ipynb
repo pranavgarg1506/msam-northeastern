{
 "cells": [
  {
   "cell_type": "markdown",
   "metadata": {},
   "source": [
    "# Homework 4\n",
    "\n",
    "\n",
    "# Diffusion and Brownian Motion\n",
    "\n",
    "Read through M. Kozdron's paper on diffusion and the heat equation http://stat.math.uregina.ca/~kozdron/Research/UgradTalks/BM_and_Heat/heat_and_BM.pdf. By the 20'th century, heat was partially accepted to be governed by the random motion of particles elastically bumping into each other, with temperature being directly proportional to the particles velocity. **Diffusion** is a model of particle movement where we assume that the motion of particles are governed by a random process, that is for any time step $\\Delta t$, the particle can be modeled as taking a \"step\" of some length in a random direct. We assume that molecules in a still gas or liquid move through a medium by diffusion, like dye spreading outwards through water. \n",
    "\n",
    "<img width=300 src=\"https://upload.wikimedia.org/wikipedia/commons/thumb/1/12/Diffusion.svg/2880px-Diffusion.svg.png\">\n",
    "\n",
    "The diffusion of particles in a liquid (or gas) can be simulated computationally using a random walk. In a random walk, we discretize time into intervals $t_0, t_1, \\ldots, t_N$ and construct a path by picking a starting point $x(0) = 0$ and compute each step by\n",
    "\n",
    "$$\n",
    "x(t_{i+1}) = x(t_i) + r_i\\,,\n",
    "$$\n",
    "\n",
    "where $r_i$ is sampled from a probability distribution. For example, if you imagine flipping a coin over and over and taking a step forward for each heads and backwards for each tails your motion would follow a *binary* random walk since a each step $r_i$ is drawn from a binary distribution. \n",
    "\n",
    "## Simulating random walks\n",
    "\n",
    "We want to simulate a random walk and compare it the the heat equation. Numpy has many distributions implemented in \n",
    "the `numpy.random` library. Since we are interested in checking Brownian Motion, we will draw each step from a random normal distribution $\\mathcal{N}(0,1)$ with mean $\\mu = 0$ and variance $\\sigma^2 = 1$.\n",
    "\n",
    "Assume that we want to generate a random walk starting from $x(0) = 0$ with $N = 100$ steps of size $dT$, with each step drawn independently from $\\mathcal{N}(0,1)$. To generate a time vector we use\n",
    "\n",
    "* `numpy.arange(start, stop, step)` - Returns a vector from `start` to `stop` with step `step`. In case the numbers don't line up exactly, the half open interval [`start`, `stop`) will be returned.\n",
    "\n",
    "To generate samples from the normal distribution we use\n",
    "\n",
    "* `np.random.normal(loc=0, scale=1, size=1)` - Returns a vector of `size` samples from the normal distribution with mean `loc` and variance `scale`. \n",
    "\n",
    "Then, we use a loop to generate the random walk for $x$."
   ]
  },
  {
   "cell_type": "code",
   "execution_count": null,
   "metadata": {},
   "outputs": [],
   "source": [
    "import numpy as np\n",
    "import matplotlib.pyplot as plt\n",
    "\n",
    "dT = .1\n",
    "N = 100\n",
    "x = np.zeros(N)\n",
    "t = np.arange(0,dT*N,step=dT)\n",
    "\n",
    "x[0] = 0\n",
    "\n",
    "for i in range(N-1):\n",
    "    x[i+1] = x[i] + np.random.normal(loc=0, scale=1,)\n",
    "    \n",
    "plt.plot(t,x)"
   ]
  },
  {
   "cell_type": "markdown",
   "metadata": {},
   "source": [
    "Given a vector `x`, the `np.cumsum(x)` returns the vector where each element is the cumulative sum of `x`. This allows us to shorten the code to the code below:"
   ]
  },
  {
   "cell_type": "code",
   "execution_count": null,
   "metadata": {},
   "outputs": [],
   "source": [
    "dT = .1\n",
    "N = 100\n",
    "t = np.arange(0,dT*N,step=dT)\n",
    "\n",
    "x = np.cumsum(np.random.normal(size=N))\n",
    "\n",
    "plt.plot(t,x)"
   ]
  },
  {
   "cell_type": "markdown",
   "metadata": {},
   "source": [
    "## Monte Carlo Simulation of Random Walks\n",
    "\n",
    "We are interested in the long term distribution of random walks. A Monte Carlo method samples a random process many times and uses the result to explore the eventual outcome. The code below is an example, it uses a loop to generate 100 sample random walks and plots them on the same axis"
   ]
  },
  {
   "cell_type": "code",
   "execution_count": null,
   "metadata": {},
   "outputs": [],
   "source": [
    "dT = .1\n",
    "N = 100\n",
    "t = np.arange(0,dT*N,step=dT)\n",
    "\n",
    "M = 100\n",
    "endpoints = np.zeros(M)\n",
    "\n",
    "for i in range(M):\n",
    "    plt.plot(t,np.cumsum(np.random.normal(size=N)))"
   ]
  },
  {
   "cell_type": "markdown",
   "metadata": {},
   "source": [
    "Lets get a better idea of the distribution of the endpoints. The code below uses a loop to generate 10000 sample random walks, saves the end point in a vector `endpoinst` and then uses `plt.hist` to plot a histogram of the location of the last step. In the histogram we use `density=True` to scale the histogram so that it shows the probabilities of each walking ending in the corresponding interval."
   ]
  },
  {
   "cell_type": "code",
   "execution_count": null,
   "metadata": {},
   "outputs": [],
   "source": [
    "dT = .1\n",
    "N = 100\n",
    "t = np.arange(0,dT*N,step=dT)\n",
    "\n",
    "M = 10000\n",
    "endpoints = np.zeros(M)\n",
    "\n",
    "for i in range(M):\n",
    "    endpoints[i] = np.cumsum(np.random.normal(size=N))[N-1]\n",
    "    \n",
    "plt.hist(endpoints,bins=100,density=True)\n",
    "plt.ylabel(\"Probability\")"
   ]
  },
  {
   "cell_type": "markdown",
   "metadata": {},
   "source": [
    "**Exercise:** Using a subplot, produce histograms for $t=1$, $t=5$ and $t=10$ both separately and all plotted on the same axis."
   ]
  },
  {
   "cell_type": "markdown",
   "metadata": {},
   "source": []
  },
  {
   "cell_type": "code",
   "execution_count": null,
   "metadata": {},
   "outputs": [],
   "source": []
  },
  {
   "cell_type": "markdown",
   "metadata": {},
   "source": [
    "## Simulating PDEs\n",
    "\n",
    "Lets recall the PDE for the time dependent diffusion equations: For a normal process with variance parameter $\\sigma^2 = 1$, the heat equation is \n",
    "\n",
    "$$\n",
    "\\frac{\\partial U}{\\partial t} = \\frac{1}{2} \\frac{\\partial^2 U}{\\partial x^2}\n",
    "$$\n",
    "\n",
    "Instead of using a solver, we need to try to solve this equation by hand. That means approximating the derivatives, and the solution. To perform the update step we will use Eulars method: For a fixed small time step $\\Delta t$, \n",
    "\n",
    "$$\n",
    "\\frac{\\partial U}{\\partial t} \\approx \\frac{U(t+\\Delta t) - U(t)}{\\Delta t}\n",
    "$$\n",
    "\n",
    "so \n",
    "\n",
    "$$\n",
    "U(t+\\Delta t) = U(t) + \\Delta t \\left( \\frac{1}{2}\\frac{\\partial^2 U}{\\partial x^2}\\right)\\,.\n",
    "$$\n",
    "\n",
    "We now need to simulate $\\frac{\\partial^2 U}{\\partial x^2}$. We split the $x$ axis up into $K$ points, with uniform step given by $\\Delta x$. At each point $x_j$, we could estimate the spacial derivative in one of three ways:\n",
    "\n",
    "\\begin{align}\n",
    "\\frac{\\partial U}{\\partial x}(x_i)_L &= \\frac{U(x_i) - U(x_{i-1})}{\\Delta x}\\hspace{3 em} & \\text{from the left}\n",
    "\\\\\n",
    "\\frac{\\partial U}{\\partial x}(x_i)_R &= \\frac{U(x_{i+1}) - U(x_{i})}{\\Delta x}\\hspace{3 em} & \\text{from the right}\n",
    "\\\\\n",
    "\\frac{\\partial U}{\\partial x}(x_i)_A &= \\frac{U(x_{i+1}) - U(x_{i-1})}{2\\Delta x}\\hspace{3 em} & \\text{average of the two}\n",
    "\\end{align}\n",
    "\n",
    "We can think of these graphically by \n",
    "\n",
    "Let us take the average. The second derivative is then computed by repeating the process. For the second derivative, we will take the derivative by computing the rate of change of the slope as computed by from the left and the right\n",
    "\n",
    "\\begin{align}\n",
    "\\frac{\\partial^2 U}{\\partial x^2}(x_i) = \\frac{\\frac{\\partial U}{\\partial x}(x_i)_R - \\frac{\\partial U}{\\partial x}(x_i)_L}{\\Delta x}= \\frac{U(x_{i+1}) -2U(x_i)+ U(x_{i-1})}{(\\Delta x)^2}\n",
    "\\end{align}\n",
    "\n",
    "There is a choice we have to make: We cannot evaluate this computation at either $x_0$ or $x_K$ since there is not $x_{-1}$ or $x_{K+1}$. We have to make a choice about what do at the ends. There are a couple of choices we could make, for example\n",
    "\n",
    "* Fix $\\frac{dU}{dt} = 0$ at the end points by fixing $\\frac{\\partial^2 U}{\\partial x^2}(x_0) = \\frac{\\partial^2 U}{\\partial x^2}(x_K) = 0$.\n",
    "\n",
    "* Fix $\\frac{\\partial^2 U}{\\partial x^2}(x_0)$ and $\\frac{\\partial^2 U}{\\partial x^2}(x_K)$ to be constant by setting $\\frac{\\partial^2 U}{\\partial x^2}(x_0) = \\frac{\\partial^2 U}{\\partial x^2}(x_1)$ and $\\frac{\\partial^2 U}{\\partial x^2}(x_K) = \\frac{\\partial^2 U}{\\partial x^2}(x_{K-1})$.\n",
    "\n",
    "We will use the second condition. "
   ]
  },
  {
   "cell_type": "code",
   "execution_count": null,
   "metadata": {},
   "outputs": [],
   "source": [
    "Dt = .1     # Set the time step\n",
    "N = 100     # Set the number of time steps\n",
    "K = 100     # Set the number of spacial slices\n",
    "\n",
    "t = np.arange(0,dT*N,step=dT)               # Construct the vector of time points\n",
    "x, Dx = np.linspace(-10,10,K,retstep=True)  # Constrcut the vector of spacial points\n",
    "\n",
    "U = np.zeros(K)       # Define a vector U = U(t=0,x)\n",
    "U[49:51] = .5         # We'll evenly distribute the function between the middle points\n",
    "plt.plot(x,U)         # Plot the mass at t = 0"
   ]
  },
  {
   "cell_type": "markdown",
   "metadata": {},
   "source": [
    "We can construct the vector $\\frac{\\partial^2 U}{\\partial x^2}$ for each $x_i$ in one line carefully using Python's indexing conventions: Let `U` be a vector giving the \"mass\" of a gas at point the points $x_0$ up to $x_{K-1}$. \n",
    "\n",
    "* `U[2:]` is the vector $[U(x_2), U(x_3), \\ldots, U(x_{K-1})]$\n",
    "* `U[:-2]` is the vector $[U(x_0), U(x_1), \\ldots, U(x_{K-3})]$\n",
    "* `U[1:-1]` is the vector $[U(x_1), U(x_2), \\ldots, U(x_{K-2})]$\n",
    "\n",
    "We can then compute the vector \n",
    "\n",
    "\\begin{align}\n",
    "\\frac{\\partial^2 U}{\\partial x^2}(x_i) = \\frac{\\frac{\\partial U}{\\partial x}(x_i)_R - \\frac{\\partial U}{\\partial x}(x_i)_L}{\\Delta x}= \\frac{U(x_{i+1}) -2U(x_i)+ U(x_{i-1})}{(\\Delta x)^2}\n",
    "\\end{align}\n",
    "\n",
    "in a single line by using\n",
    "\n",
    "`ddU[1:-1] = (U[2:] -2*U[1:-1]+ U[:-2])/(Dx**2)`\n",
    "\n",
    "We can impose the boundary condition by using `ddU[0] = ddU[1]` and `ddU[-1] = ddU[-2]`. \n",
    "\n",
    "Finally, implement Eulars Method to compute \n",
    "\n",
    "for \n",
    "\n",
    "$$\n",
    "\\frac{\\partial U}{\\partial t} = \\alpha^2 \\frac{\\partial^2 U}{\\partial x^2}\n",
    "$$\n",
    "\n",
    "when $\\alpha = \\frac{1}{16}$."
   ]
  },
  {
   "cell_type": "code",
   "execution_count": null,
   "metadata": {},
   "outputs": [],
   "source": [
    "Dt = .1     # Set the time step\n",
    "N = 100     # Set the number of time steps\n",
    "K = 100     # Set the number of spacial slices\n",
    "\n",
    "t = np.arange(0,dT*N,step=dT)               # Construct the vector of time points\n",
    "x, Dx = np.linspace(-10,10,K,retstep=True)  # Constrcut the vector of spacial points\n",
    "\n",
    "U = np.zeros(K)       # Define a vector U = U(t=0,x)\n",
    "U[49:51] = .5/Dx      # We evenly distribute the function between the middle points, dividing by the distance\n",
    "plt.plot(x,U)         # Plot the mass at t = 0\n",
    "\n",
    "ddU = np.zeros(K)\n",
    "\n",
    "for i in range(N):\n",
    "                   # Compute ddU\n",
    "                   # Impose Boundary Conditions\n",
    "                   # Impose Boundary Conditions\n",
    "    \n",
    "                   # Use Eulars Method To Compute U at t+1\n",
    "    \n",
    "plt.plot(x,U)"
   ]
  },
  {
   "cell_type": "markdown",
   "metadata": {},
   "source": [
    "## Problem 1:\n",
    "\n",
    "#### Part a\n",
    "The diffusion equation with parameter $\\alpha$ matches the Brownian motion with variance given by $2\\alpha^2\\Delta t = \\sigma^2$, or $\\alpha = \\frac{\\sigma}{\\sqrt{2\\Delta t}}$. Generate the histogram of a Monte Carlo simulation of 10000 random walks with $\\Delta t = .1$ after $N=100$ steps. Pick the variance $\\sigma$ to match $\\alpha^2 = 1/16$.\n",
    "\n",
    "Plot both the histogram and the result of your simulation of the diffusion equation on the same plot. They should be almost exactly equal. Turn in this plot. \n",
    "\n",
    "#### Part b\n",
    "The Eular Method breaks down for $\\alpha^2 > 1/2$ and even gets problematic for $\\alpha^2 > 1/5$. Plot both the histogram and the simulation of the diffusion equation when $\\alpha^2 = 1/4$. Turn in this plot.  "
   ]
  },
  {
   "cell_type": "code",
   "execution_count": null,
   "metadata": {},
   "outputs": [],
   "source": []
  },
  {
   "cell_type": "markdown",
   "metadata": {},
   "source": [
    "# Analytic Problems:\n",
    "\n",
    "## Problem 2:\n",
    "\n",
    "Read Section 9.6 on radial heat conduction. Answer Question 12.3 in the book using Question 9.8. You must show your derivation. "
   ]
  },
  {
   "cell_type": "markdown",
   "metadata": {},
   "source": [
    "## Problem 3:\n",
    "\n",
    "Answer Question 12.5 in the book. "
   ]
  },
  {
   "cell_type": "markdown",
   "metadata": {},
   "source": [
    "## Problem 4:\n",
    "\n",
    "For $\\frac{\\partial \\rho}{\\partial t} + c\\frac{\\partial \\rho}{\\partial x}  = 0$, where $c\\in \\mathbb{R}$, determine $\\rho(x,t)$ if $\\rho(x,0) = \\sin(x)$ by finding the characteristics, and giving a value for $\\rho(x,t)$ along each characteristic. "
   ]
  },
  {
   "cell_type": "code",
   "execution_count": null,
   "metadata": {},
   "outputs": [],
   "source": []
  },
  {
   "cell_type": "markdown",
   "metadata": {},
   "source": [
    "For more on finite difference simulation of PDEs with Python, see \n",
    "\n",
    "https://hplgit.github.io/fdm-book/doc/pub/book/sphinx/._book011.html"
   ]
  },
  {
   "cell_type": "code",
   "execution_count": null,
   "metadata": {},
   "outputs": [],
   "source": []
  }
 ],
 "metadata": {
  "kernelspec": {
   "display_name": "Python 3",
   "language": "python",
   "name": "python3"
  },
  "language_info": {
   "codemirror_mode": {
    "name": "ipython",
    "version": 3
   },
   "file_extension": ".py",
   "mimetype": "text/x-python",
   "name": "python",
   "nbconvert_exporter": "python",
   "pygments_lexer": "ipython3",
   "version": "3.6.10"
  }
 },
 "nbformat": 4,
 "nbformat_minor": 2
}
