{
 "cells": [
  {
   "cell_type": "markdown",
   "metadata": {},
   "source": [
    "# Homework:\n",
    "\n",
    "## Analytic Problem 1: (3 Points)\n",
    "\n",
    "Consider the preditor prey equations where the prey population has a carrying capacity:\n",
    "\n",
    "\\begin{align}\n",
    "X' &= aX\\left(1-\\frac XK\\right) - c_1 XY\\,,\n",
    "\\\\\n",
    "Y' &= c_2 XY - bY\\,.\n",
    "\\end{align}\n",
    "\n",
    "1.a) Write down expressions for the nullclines and the equilibrium solutions. \n",
    "\n",
    "1.b) There are two rough cases depending on the parameters: All equilibrium solutions lie in the model domain $X,Y\\geq 0$ or one does not. Draw the trajectory diagram for both cases, including the nullclines.\n",
    "\n",
    "1.c) Compute the Jacobian matrix. \n",
    "\n",
    "1.d) Argue, using either the matrix or the trajectory diagrams, for the type of the equilibrium solutions."
   ]
  },
  {
   "cell_type": "markdown",
   "metadata": {},
   "source": [
    "## Case Study: Geese defy mathematical conventions?\n",
    "\n",
    "*In this case study, we will consider how to evaluate models with large numbers of parameters by using the nullclines and focusing on one parameter at a time. For large numbers of parameters the space of solutions may be complicated, but we can still try to understand what effect new terms have by focusing on the rough behavior of the nullclines, or by fixing all but single parameter of interest.*\n",
    "\n",
    "Classical exploitation theory has lead us to believe that where more grazing is available we will find more herbivores inflicting more pressure on the crops, thus keeping crop growth controlled. In <a href=” https://esajournals.onlinelibrary.wiley.com/doi/pdf/10.2307/2265498”>van de Koppel et al</a>, the authors argue that herbivores do not control the plant growth entirely. \n",
    "\n",
    "Their model, supported by empirical evidence, include the possibility of dense vegetation persisting with low herbivore grazing pressure, all in the absence of a predator. The observation of this maximal grazing pressure on large number of crops can be explain in a variety of ways. For example, in denser regions lack of light may impact stem development of plants, robbing the leaves of their protein content and making them less attractive to herbivores. Alternatively, these regions may be under watch by the few predators in the system, or herbivores may have greater difficulty penetrating them. \n",
    "\n",
    "Let $P$ and $H$ be the plant and herbivore densities respectively, with $P$ measure plant mass in $g/m^2$ and $H$ measuring  the number of herbivores per unit area in $num/m^2$ calculated from the number of droppings found. The standard form of the plant herbivore model is \n",
    "\n",
    "\\begin{align}\n",
    "P’ &= G(P) – F(P)H\n",
    "\\\\\n",
    "H’ &= N(P)H\n",
    "\\end{align}\n",
    "\n",
    "Where $G(P)$ is the growth function, $F(P)$ is the per capita consumption rate of a herbivore and $N(P)$ is the per-capita growth rate of herbivores. "
   ]
  },
  {
   "cell_type": "markdown",
   "metadata": {},
   "source": [
    "Consider the first case of reduced digestion efficiency due to less nutritional forage in high density crops. Here, we take the per capita growth rate to decline in regions of high plant density. Let $P^*_1$ be the crop density under which there is too little food and herbivore growth is 0. Let $P_2^*$ to be the density above which there is too much vegetation and herbivore growth is again 0.\n",
    "\n",
    "They propose the following model\n",
    "\n",
    "\\begin{align}\n",
    "P’ &= rP(1-P/K) – c_{max} \\frac{P}{a+P} H\n",
    "\\\\\n",
    "H’ &= \\left( e_{max}\\frac{P}{a+P}  e^{-bP} - d \\right)H\n",
    "\\end{align}\n",
    "\n",
    "**1 Point for each of the following Questions**\n",
    "\n",
    "#### Question 1:\n",
    "Give a plausible interpretation of the constants $d$, $a$, $c_{max}$. These are all term’s we have discussed before. "
   ]
  },
  {
   "cell_type": "markdown",
   "metadata": {},
   "source": [
    "*Put your answer here*"
   ]
  },
  {
   "cell_type": "markdown",
   "metadata": {},
   "source": [
    "---"
   ]
  },
  {
   "cell_type": "markdown",
   "metadata": {},
   "source": [
    "We will be working around the parameter values\n",
    "\n",
    "|$K$|$r$|$a$|$b$|$c_{max}$|$e_{max}$|$d$|\n",
    "|--|--|--|--|--|--|--|\n",
    "|18|1|10|0.065|1|0.4|0.1|\n",
    "\n",
    "#### Question 2:\n",
    "Let us take a moment to understand the functios $N(P)$ and $F(P)$. Plot $N(P)$ vs $P$ and $F(P)$ vs $P$ for $P\\in  [0,15]$.\n",
    "\n",
    "Use either the plots or the vectors to estimate the zeros of $N(P)$ up to 2 decimal places. These will be the nullclines assocaited to $H' = 0$. "
   ]
  },
  {
   "cell_type": "code",
   "execution_count": null,
   "metadata": {},
   "outputs": [],
   "source": []
  },
  {
   "cell_type": "markdown",
   "metadata": {},
   "source": []
  },
  {
   "cell_type": "markdown",
   "metadata": {},
   "source": [
    "---"
   ]
  },
  {
   "cell_type": "markdown",
   "metadata": {},
   "source": [
    "#### Question 3:\n",
    "\n",
    "We are interested in discovering the long term behavior of this model: are there parameters for which the plant-herbivore system settle into coexistance, or do the herbavores always eventually die out? \n",
    "\n",
    "Plot the vector feild associted to the plant-herbivore equations at the parameter values specified above, for $P,H\\in [0,15]$. "
   ]
  },
  {
   "cell_type": "code",
   "execution_count": null,
   "metadata": {},
   "outputs": [],
   "source": []
  },
  {
   "cell_type": "markdown",
   "metadata": {},
   "source": [
    "#### Analytic Question 4:\n",
    "\n",
    "4.a) Write down the 4 analytic equations for the distinct nullclines for system of equations. Using the numerical values you estimated in **Question 2**, give the equilibrium solutions to the system of equations for the given parameter values. \n",
    "\n",
    "4.b) Add these to your plot from  **Question 3**. Compute the numerical solutions to the system of equations starting at $(P,H) = (10,13)$ and $(P,H) = (15,11)$ and plot them with the phase space vector field and the nullclines."
   ]
  },
  {
   "cell_type": "code",
   "execution_count": null,
   "metadata": {},
   "outputs": [],
   "source": []
  },
  {
   "cell_type": "code",
   "execution_count": null,
   "metadata": {},
   "outputs": [],
   "source": []
  },
  {
   "cell_type": "code",
   "execution_count": null,
   "metadata": {},
   "outputs": [],
   "source": []
  },
  {
   "cell_type": "markdown",
   "metadata": {},
   "source": [
    "#### Question 5: Changin the Plant Carrying Capacity\n",
    "\n",
    "Consider the plant carrying capacity $K$ as a variable parameter while holding all other parameters fixed. Copy your code from **Question 5** and plot the resulting diagram for $K = 5, 10, 20$ and 24. You should use 4 subplots to summarize your results, and clearly label the plots. "
   ]
  },
  {
   "cell_type": "code",
   "execution_count": null,
   "metadata": {},
   "outputs": [],
   "source": []
  },
  {
   "cell_type": "code",
   "execution_count": null,
   "metadata": {},
   "outputs": [],
   "source": []
  },
  {
   "cell_type": "code",
   "execution_count": null,
   "metadata": {},
   "outputs": [],
   "source": []
  },
  {
   "cell_type": "markdown",
   "metadata": {},
   "source": [
    "---"
   ]
  },
  {
   "cell_type": "markdown",
   "metadata": {},
   "source": [
    "#### Analytic Question 7:\n",
    "\n",
    "Fix all of the constants except $K$ as in **Question 2**. Compute the stability type of the leftmost equilibrium point by giving an expression for the Jacobean (this is tedious but not difficult) and computing it at the equilibrium point. Then, use the trace-determinant plane (or the eigenvalues directly) to determine when the point is stable, unstable, or semistable and when it is a node or a focus. You should give each range in terms of $K$. \n",
    "\n",
    "*Hint: In the expression for $\\Delta$ in the trace determinant plane, it might be helpful to solve in terms of $L = 1/K$, not $K$ directly.*\n",
    "\n",
    "*Hint: This computation can be done by hand, but by now I don't need to test you're ability to do complex partial derivatives. I would highly recommend using sympy for this problem. \n",
    "\n",
    "https://docs.sympy.org/latest/tutorial/intro.html"
   ]
  },
  {
   "cell_type": "markdown",
   "metadata": {},
   "source": [
    "Solution:\n",
    "\n",
    "Using sympy:"
   ]
  },
  {
   "cell_type": "code",
   "execution_count": null,
   "metadata": {},
   "outputs": [],
   "source": []
  },
  {
   "cell_type": "markdown",
   "metadata": {},
   "source": [
    "#### Question 8:\n",
    "\n",
    "Summarize how the solutions, and overall behavior of the model chances for changes for changing $K$. Give distinct phases of the model in terms of $K$ and describe the types of behavior in each phase. You're results should be justified by the stability of the equilibrium solutions from your numerical simulations. "
   ]
  },
  {
   "cell_type": "code",
   "execution_count": null,
   "metadata": {},
   "outputs": [],
   "source": []
  },
  {
   "cell_type": "code",
   "execution_count": null,
   "metadata": {},
   "outputs": [],
   "source": []
  }
 ],
 "metadata": {
  "kernelspec": {
   "display_name": "Python 3",
   "language": "python",
   "name": "python3"
  },
  "language_info": {
   "codemirror_mode": {
    "name": "ipython",
    "version": 3
   },
   "file_extension": ".py",
   "mimetype": "text/x-python",
   "name": "python",
   "nbconvert_exporter": "python",
   "pygments_lexer": "ipython3",
   "version": "3.6.10"
  }
 },
 "nbformat": 4,
 "nbformat_minor": 2
}
