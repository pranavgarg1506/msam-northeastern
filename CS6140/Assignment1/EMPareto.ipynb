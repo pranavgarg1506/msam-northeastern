{
 "cells": [
  {
   "cell_type": "code",
   "execution_count": 10,
   "metadata": {},
   "outputs": [],
   "source": [
    "import numpy as np\n",
    "import sympy as sp\n",
    "import pandas as pd\n",
    "from itertools import combinations\n",
    "from numpy import linalg as LA\n",
    "from matplotlib import pyplot as plt\n",
    "from scipy.spatial.distance import pdist, squareform\n",
    "from multiprocessing import Process\n",
    "import warnings\n",
    "warnings.filterwarnings(\"error\")\n"
   ]
  },
  {
   "cell_type": "code",
   "execution_count": 146,
   "metadata": {},
   "outputs": [],
   "source": [
    "def soft_em (x, m):\n",
    "    eps, max_step = 0.0001, 10000\n",
    "    step = 0\n",
    "    alpha = np.random.rand()\n",
    "    lmd_1 = np.random.uniform(0.1, 3)\n",
    "    lmd_0 = np.random.uniform(0.1, 3)\n",
    "    w = np.array([alpha, 1 - alpha])\n",
    "    theta = np.array([lmd_1, lmd_0])\n",
    "    while True:\n",
    "        try:\n",
    "            prev_theta, prev_w = theta, w\n",
    "            p = theta[:, None] / (x**(theta[:, None] + 1))\n",
    "            py = ((w * p.T).T / np.sum((w * p.T).T, axis = 0))\n",
    "            w = np.mean(py, axis=1)\n",
    "            theta = np.sum(py, axis=1) / np.sum(np.log(x) * py, axis=1)\n",
    "            if np.all(np.abs(theta - prev_theta) < eps) and np.all(np.abs(w - prev_w) < eps):\n",
    "                break\n",
    "        except:\n",
    "            print(w, theta, step)\n",
    "            break\n",
    "        step += 1\n",
    "    return w, theta, step\n"
   ]
  },
  {
   "cell_type": "code",
   "execution_count": 30,
   "metadata": {},
   "outputs": [],
   "source": [
    "def run_for_a_dataset(m, n):\n",
    "    alpha = np.random.rand()\n",
    "    lmd_1 = np.random.uniform(0.01, 3)\n",
    "    lmd_0 = np.random.uniform(0.01, 3)\n",
    "    w_true = np.array([alpha, 1 - alpha])\n",
    "    theta_true = np.array([lmd_1, lmd_0])\n",
    "    x_1 = np.random.pareto(theta_true[0], n) + 1\n",
    "    x_2 = np.random.pareto(theta_true[1], n) + 1\n",
    "    x = np.concatenate((x_1[:int(w_true[0] * n)], x_2[:int(w_true[1] * n)]))\n",
    "    w_pred, theta_pred, step = soft_em(x, m)\n",
    "    return w_true, theta_true, w_pred, theta_pred, step"
   ]
  },
  {
   "cell_type": "code",
   "execution_count": 48,
   "metadata": {},
   "outputs": [],
   "source": [
    "data_sets, results = 100, np.array([])\n",
    "for i in range(data_sets):\n",
    "    m, n = 2, 1000\n",
    "    results = np.append(results, run_for_a_dataset(m, n))"
   ]
  },
  {
   "cell_type": "code",
   "execution_count": 49,
   "metadata": {},
   "outputs": [
    {
     "data": {
      "text/plain": [
       "500"
      ]
     },
     "execution_count": 49,
     "metadata": {},
     "output_type": "execute_result"
    }
   ],
   "source": [
    "len(results)"
   ]
  },
  {
   "cell_type": "code",
   "execution_count": 94,
   "metadata": {},
   "outputs": [],
   "source": [
    "w_true = results[0::5]\n",
    "theta_true = results[1::5]\n",
    "w_pred = results[2::5]\n",
    "theta_pred = results[3::5]\n",
    "for i in range(data_sets):\n",
    "    if (w_true[i][0] > 0.5 and w_pred[i][0] < 0.5) or (w_true[i][0] < 0.5 and w_pred[i][0] > 0.5):\n",
    "        w_pred[i][0], w_pred[i][1] = w_pred[i][1], w_pred[i][0]\n",
    "        theta_pred[i][0], theta_pred[i][1] = theta_pred[i][1], theta_pred[i][0]"
   ]
  },
  {
   "cell_type": "code",
   "execution_count": 118,
   "metadata": {},
   "outputs": [],
   "source": [
    "w_diff = np.abs(np.concatenate(w_true - w_pred, axis = 0))\n",
    "w_0_diff = w_diff[0::2]\n",
    "w_1_diff = w_diff[1::2]\n",
    "theta_diff = np.abs(np.concatenate(theta_true - theta_pred, axis = 0))\n",
    "lambda_1_diff = theta_diff[0::2]\n",
    "lambda_0_diff = theta_diff[1::2]"
   ]
  },
  {
   "cell_type": "code",
   "execution_count": 147,
   "metadata": {},
   "outputs": [
    {
     "data": {
      "text/plain": [
       "Text(0.5, 1.0, 'Difference in \\\\lambda_0')"
      ]
     },
     "execution_count": 147,
     "metadata": {},
     "output_type": "execute_result"
    },
    {
     "data": {
      "image/png": "[encoded data removed]",
      "text/plain": [
       "<Figure size 1080x1080 with 4 Axes>"
      ]
     },
     "metadata": {
      "needs_background": "light"
     },
     "output_type": "display_data"
    }
   ],
   "source": [
    "fig, ax = plt.subplots(2, 2, figsize=(15, 15))\n",
    "fig.suptitle(\"Boxplot for paramter differences\")\n",
    "ax[0, 0].boxplot(w_0_diff)\n",
    "ax[0, 0].set_title(\"Difference in \\\\alpha\")\n",
    "ax[0, 1].boxplot(w_1_diff)\n",
    "ax[0, 1].set_title(\"Difference in 1 - \\\\alpha\")\n",
    "ax[1, 0].boxplot(lambda_1_diff)\n",
    "ax[1, 0].set_title(\"Difference in \\\\lambda_1\")\n",
    "ax[1, 1].boxplot(lambda_0_diff)\n",
    "ax[1, 1].set_title(\"Difference in \\\\lambda_0\")\n"
   ]
  },
  {
   "cell_type": "code",
   "execution_count": 145,
   "metadata": {},
   "outputs": [
    {
     "name": "stdout",
     "output_type": "stream",
     "text": [
      "Mean absolute difference (\\alpha) = 0.10525395212126394\n",
      "Mean absolute difference (1 - \\alpha) = 0.10525395212126394\n",
      "Mean absolute difference (\\lambda_1) = 0.366816910982778\n",
      "Mean absolute difference (\\lambda_0) = 0.33752129248324614\n"
     ]
    }
   ],
   "source": [
    "print(\"Mean absolute difference (\\\\alpha) = \" + str(np.mean(w_0_diff)))\n",
    "print(\"Mean absolute difference (1 - \\\\alpha) = \" + str(np.mean(w_1_diff)))\n",
    "print(\"Mean absolute difference (\\\\lambda_1) = \" + str(np.mean(lambda_1_diff)))\n",
    "print(\"Mean absolute difference (\\\\lambda_0) = \" + str(np.mean(lambda_0_diff)))\n"
   ]
  },
  {
   "cell_type": "code",
   "execution_count": null,
   "metadata": {},
   "outputs": [],
   "source": []
  }
 ],
 "metadata": {
  "kernelspec": {
   "display_name": "Python 3",
   "language": "python",
   "name": "python3"
  },
  "language_info": {
   "codemirror_mode": {
    "name": "ipython",
    "version": 3
   },
   "file_extension": ".py",
   "mimetype": "text/x-python",
   "name": "python",
   "nbconvert_exporter": "python",
   "pygments_lexer": "ipython3",
   "version": "3.8.3"
  }
 },
 "nbformat": 4,
 "nbformat_minor": 4
}
