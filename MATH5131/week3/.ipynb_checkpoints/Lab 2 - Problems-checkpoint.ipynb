{
 "cells": [
  {
   "cell_type": "markdown",
   "metadata": {},
   "source": [
    "# Homework:\n",
    "\n",
    "## Computation:\n",
    "\n",
    "### Problem 1:\n",
    "\n",
    "Explicitly solve the system of equations below:\n",
    "\n",
    "\\begin{align*}\n",
    "x_1 &= 2x_1 - 3x_2\n",
    "\\\\\n",
    "x_2 &= -4x_1 +3x_2\n",
    "\\end{align*}\n",
    "\n",
    "### Problem 2:\n",
    "\n",
    "Describe the solutions to the following system of equations:\n",
    "\n",
    "\\begin{align*}\n",
    "x_1 &= 2x_1 + 4x_2\n",
    "\\\\\n",
    "x_2 &= -x_1 +2x_2\n",
    "\\end{align*}"
   ]
  },
  {
   "cell_type": "markdown",
   "metadata": {},
   "source": [
    "## Case Study: Cholera Outbreak\n",
    "\n",
    "#### Background:\n",
    "\n",
    "Based on [Endemic and Epidemic Dynamics of Cholera: The Role of the Aquatic Reservoir](https://www.researchgate.net/publication/12123535_Endemic_and_Epidemic_Dynamics_of_Cholera_The_Role_of_the_Aquatic_Reservoir) and the textbook.\n",
    "\n",
    "Cholera is a water born disease that is particularly dangerous in areas where sanitation is inadequate and sewage can find its way into the drinking water supply. Modeling can provide an understanding of the circumstances under which an outbreak can occur. Here we formulate a model that include interacting susceptible and infectious populations. However, what is different from the usual case is twofold: first, we include transmission from the environment and second we imagine tracking the disease over a long period of time and so we include birth and death rates. \n",
    "\n",
    "#### Governing Equations:\n",
    "The variables needed to describe the prevalence of cholera in the population are $S(t)$, susceptible, and $I(t)$, infective, where $t$ is time. Another important variable is the concentration of cholera bacteria in the water supply. We will use $B(t)$ to represent bacterial concentration. This will change in time as more bacteria enter the water supply through ongoing sewage contaminations, which then increases with an increasing number of infected producing cholera bacteria. \n",
    "\n",
    "#### State Variables:\n",
    "\n",
    "|Parameter| Description |\n",
    "|---|---|\n",
    "|$S$| Number of susceptible |\n",
    "|$I$| Number of infected |\n",
    "|$B$| Concentration of cells in water (cells/ml)|\n",
    "\n",
    "#### Parameters:\n",
    "\n",
    "|Parameter| Description | Village 1 | Village 2 | Village 3|\n",
    "|---|---|---|---|---|\n",
    "|$H$| Total human population |10,000|10,000|10,000|\n",
    "|$a$| Rate of exposure to contaminated water (days$^{-1}$) |.5|1|1|\n",
    "|$k$| Concentration of bacteria that leads to 50% infection rate (cells/ml) |$10^6$|$10^6$|$10^6$|\n",
    "|$r$| Recovery rate (days$^{-1}$) |0.2|0.2|0.2|\n",
    "|$n_b$| Growth/death rate of cholera bacteria in water (days$^{-1}$) |-.33|-.33|-.33|\n",
    "|$e$| Rate of bacteria excretion per person $\\left(\\frac{\\text{cells}}{\\text{(ml)(days)(person)}}\\right)$|10|10|10|\n",
    "\n",
    "#### Equations:\n",
    "\n",
    "We set up the following system of differential equations:\n",
    "\n",
    "\\begin{align}\n",
    "\\frac{dS}{dt} &= -\\lambda(B)S\\,,\n",
    "\\\\\n",
    "\\frac{dI}{dt} &= \\lambda(B)S - rI\\,,\n",
    "\\\\\n",
    "\\frac{dB}{dt} &= Bn_b + eI\\,.\n",
    "\\end{align}\n",
    "\n",
    "Here, $\\lambda(B)$ is the **force of infection**. We assume that cholera is only contracted through contact with the environment and not through person-to-person contact. The force of infection is the probability per unit time of a susceptible being infected. While we could assume the probability is proportional to the bacterial concentration $B(t)$ times rate of exposure $a$, it is more realistic to assume it is linear for small $B(t)$ and then tends to 1 (100% of infection) as $B$ becomes large. We thus use a standard **hill function**\n",
    "\n",
    "$$\n",
    "\\lambda(B) = ap(B) = a\\frac{B}{k+B}\\,.\n",
    "$$\n",
    "\n",
    "Substituting this in for $\\lambda(B)$ we obtain the equations\n",
    "\n",
    "\\begin{align}\n",
    "\\frac{dS}{dt} &= -a\\frac{B}{k+B}S\n",
    "\\\\\n",
    "\\frac{dI}{dt} &= a\\frac{B}{k+B}S - rI\n",
    "\\\\\n",
    "\\frac{dB}{dt} &= Bn_b + eI\n",
    "\\end{align}\n",
    "\n",
    "\n",
    "### Overview:\n",
    "\n",
    "In the questions below, we will explore whether the equations above can simulation the following situations: \n",
    "\n",
    "* No outbreak occurs.\n",
    "* A finite outbreak occurs.\n",
    "* Cyclic outbreak occur as new susceptible population members are added.\n",
    "\n",
    "We want to understand the relationship between the parameters $a$, $k$, $r$, $n_b$ and $e$ and the outcome of the epidemic.  Since there are three dynamic variables, it is difficult to draw a 2d trajectory diagram based on nullclines. Instead, we will explore the equations numerically, and then use steady state assumptions as derive the critical town size. "
   ]
  },
  {
   "cell_type": "markdown",
   "metadata": {},
   "source": [
    "### Computational Question 1:\n",
    "\n",
    "Set up the model for the system of differential equations corresponding to Village 1. We want to understand the population size at which an outbreak will occur. \n",
    "\n",
    "Simulate the equations above for no bacteria and single sick patient, that is $S(0) = H-1$, $I(0) = 10$ and $B(0) = 0$ for \n",
    "\n",
    "$$\n",
    "H = [9000, 11000, 13000, 15000, 17000]\n",
    "$$\n",
    "\n",
    "Plot $S(t)$ vs $I(t)$ for each of the initial populations on the same graph. Be sure to label your axes. \n",
    "\n",
    "To the nearest 100, what is the smallest value of $H$ for which there is no increase in the number of infected?"
   ]
  },
  {
   "cell_type": "code",
   "execution_count": null,
   "metadata": {},
   "outputs": [],
   "source": []
  },
  {
   "cell_type": "code",
   "execution_count": null,
   "metadata": {},
   "outputs": [],
   "source": []
  },
  {
   "cell_type": "code",
   "execution_count": null,
   "metadata": {},
   "outputs": [],
   "source": []
  },
  {
   "cell_type": "markdown",
   "metadata": {},
   "source": [
    "### Analytic Question 2:\n",
    "\n",
    "We want to determine the **basic reproduction number** $R_0$ and from it the **critical town size** $S_C$, that is the town size for which a single infected member of the population will lead to an outbreak. To determine if an outbreak will occur, we must determine if a single member of the population can infect more than 1 other member of the population during the time they are sick. \n",
    "\n",
    "We will estimate the maximum amount of bacteria produced by a single infected $B_1$ will be the equilibrium solution for $B'$ when $I = 1$\n",
    "\n",
    "$$\n",
    "0 = B' = B_1 n_b + e \\hspace{4em} \\Rightarrow \\hspace{4em} B_1 = -\\frac e{n_b}\n",
    "$$\n",
    "\n",
    "For a single infection, we assume that $B_1 << K$, so we can also assume that \n",
    "\n",
    "$$\n",
    "\\frac{B_1}{k+B_1} \\approx \\frac{B_1}{k}\\,.\n",
    "$$\n",
    "\n",
    "#### Question 2.a:\n",
    "\n",
    "Using $B \\approx B_1$ when $I=1$, find a formula for the basic reproduction number by solving $I' = 0$. This formula gives a condition for the number of infections to be roughly constant."
   ]
  },
  {
   "cell_type": "markdown",
   "metadata": {},
   "source": []
  },
  {
   "cell_type": "markdown",
   "metadata": {},
   "source": [
    "#### Question 2.b: \n",
    "\n",
    "The number of infected will increase if $R_0>0$. Solve $R_0>0$ for an expression for the **critical town size** $S_0$ such that $R_0>0$."
   ]
  },
  {
   "cell_type": "markdown",
   "metadata": {},
   "source": []
  },
  {
   "cell_type": "markdown",
   "metadata": {},
   "source": [
    "### Computational Question 3:\n",
    "\n",
    "Ultimately, we want to construct a kind of \"phase space\" for the parameters so we can understand clearly how different starting conditions lead to different kinds of outcomes, and hopefully to prevent outbreaks. Using your formula from Question 2 we want to use the critical town side to evaluate the changing of different parameters. \n",
    "\n",
    "#### Question 3.a:\n",
    "\n",
    "Fix all quantities as in the table in the case study. Construct a phase plot for the parameters\n",
    "\n",
    "    1) $S_0$ vs $e$, $a = .5$,\n",
    "    2) $S_0$ vs $a$, $e = 10$,\n",
    "    3) $a$ vs $e$, $S_0 = 10,000$,\n",
    "\n",
    "by plotting the line $R_0 = 0$. Clearly describe for which values of the parameters on each chart the outbreak will occur. "
   ]
  },
  {
   "cell_type": "markdown",
   "metadata": {},
   "source": []
  },
  {
   "cell_type": "markdown",
   "metadata": {},
   "source": [
    "#### Question 3.b:\n",
    "\n",
    "Given the initial starting values, if it is equally easy to increase/decrease $e$ and $a$ by a fixed percentage, which would be the most efficient variable to adjust?"
   ]
  },
  {
   "cell_type": "markdown",
   "metadata": {},
   "source": []
  },
  {
   "cell_type": "markdown",
   "metadata": {},
   "source": [
    "### Analytic Question 4:\n",
    "\n",
    "Assume that after a time the population becomes susceptible again. We will model this situation by adding a recovered population that slowly moves back into the susceptible population. \n",
    "\n",
    "\\begin{align}\n",
    "\\frac{dS}{dt} &= -a\\frac{B}{k+B}S + dR\n",
    "\\\\\n",
    "\\frac{dI}{dt} &= a\\frac{B}{k+B}S - rI\n",
    "\\\\\n",
    "\\frac{dB}{dt} &= Bn_b + eI\n",
    "\\\\\n",
    "\\frac{dR}{dt} &= rI - dR\n",
    "\\end{align}\n",
    "\n",
    "#### Problem 4.a:\n",
    "\n",
    "Find the equilibrium solutions to the equations above. There are different numbers of equilibrium solutions for different values of the parameters. Classify these behaviors. "
   ]
  },
  {
   "cell_type": "code",
   "execution_count": null,
   "metadata": {},
   "outputs": [],
   "source": []
  },
  {
   "cell_type": "markdown",
   "metadata": {},
   "source": [
    "#### Problem 4.b:\n",
    "\n",
    "Numerically solve for an example where there is an equilibrium solution with nonzero $I$. Plot the result and describe the behavior . "
   ]
  },
  {
   "cell_type": "code",
   "execution_count": null,
   "metadata": {},
   "outputs": [],
   "source": []
  },
  {
   "cell_type": "code",
   "execution_count": null,
   "metadata": {},
   "outputs": [],
   "source": []
  }
 ],
 "metadata": {
  "kernelspec": {
   "display_name": "Python 3",
   "language": "python",
   "name": "python3"
  },
  "language_info": {
   "codemirror_mode": {
    "name": "ipython",
    "version": 3
   },
   "file_extension": ".py",
   "mimetype": "text/x-python",
   "name": "python",
   "nbconvert_exporter": "python",
   "pygments_lexer": "ipython3",
   "version": "3.6.9"
  }
 },
 "nbformat": 4,
 "nbformat_minor": 2
}
